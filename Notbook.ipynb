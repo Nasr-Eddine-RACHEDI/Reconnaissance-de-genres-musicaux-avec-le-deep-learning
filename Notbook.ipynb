{
 "cells": [
  {
   "cell_type": "code",
   "execution_count": 37,
   "metadata": {},
   "outputs": [],
   "source": [
    "from sklearn.model_selection import train_test_split\n",
    "import matplotlib.pyplot as plt\n",
    "import numpy as np\n",
    "import os\n",
    "import librosa\n",
    "import librosa.display\n",
    "import wave\n",
    "import cv2\n",
    "import random\n",
    "import tensorflow as tf\n",
    "import tensorflow.keras as keras\n",
    "%matplotlib inline "
   ]
  },
  {
   "cell_type": "markdown",
   "metadata": {},
   "source": [
    "Récuperer les chemins des audios"
   ]
  },
  {
   "cell_type": "code",
   "execution_count": 2,
   "metadata": {},
   "outputs": [],
   "source": [
    "import glob \n",
    "import os.path \n",
    "\n",
    "def listdirectory(path): \n",
    "    fichier=[] \n",
    "    l = glob.glob(path+'\\\\*') \n",
    "    for i in l: \n",
    "        if os.path.isdir(i): fichier.extend(listdirectory(i)) \n",
    "        else: fichier.append(i) \n",
    "    return fichier"
   ]
  },
  {
   "cell_type": "code",
   "execution_count": 3,
   "metadata": {},
   "outputs": [],
   "source": [
    "#load blues\n",
    "path_blues='C:\\\\Users\\\\USER\\\\Desktop\\\\Audio\\\\genres\\\\blues'\n",
    "blues=listdirectory(path_blues)\n",
    "\n",
    "#load classical\n",
    "path_classical='C:\\\\Users\\\\USER\\\\Desktop\\\\Audio\\\\genres\\\\classical'\n",
    "classical=listdirectory(path_classical)\n",
    "\n",
    "#load country\n",
    "path_country='C:\\\\Users\\\\USER\\\\Desktop\\\\Audio\\\\genres\\\\country'\n",
    "country=listdirectory(path_country)\n",
    "\n",
    "#load disco\n",
    "path_disco='C:\\\\Users\\\\USER\\\\Desktop\\\\Audio\\\\genres\\\\disco'\n",
    "disco=listdirectory(path_disco)\n",
    "\n",
    "#load hiphop\n",
    "path_hiphop='C:\\\\Users\\\\USER\\\\Desktop\\\\Audio\\\\genres\\\\hiphop'\n",
    "hiphop=listdirectory(path_hiphop)\n",
    "\n",
    "#load jazz\n",
    "path_jazz='C:\\\\Users\\\\USER\\\\Desktop\\\\Audio\\\\genres\\\\jazz'\n",
    "jazz=listdirectory(path_jazz)\n",
    "\n",
    "#load metal\n",
    "path_metal='C:\\\\Users\\\\USER\\\\Desktop\\\\Audio\\\\genres\\\\metal'\n",
    "metal=listdirectory(path_metal)\n",
    "\n",
    "#load pop\n",
    "path_pop='C:\\\\Users\\\\USER\\\\Desktop\\\\Audio\\\\genres\\\\pop'\n",
    "pop=listdirectory(path_pop)\n",
    "\n",
    "#load reggae\n",
    "path_reggae='C:\\\\Users\\\\USER\\\\Desktop\\\\Audio\\\\genres\\\\reggae'\n",
    "reggae=listdirectory(path_reggae)\n",
    "\n",
    "#load rock\n",
    "path_rock='C:\\\\Users\\\\USER\\\\Desktop\\\\Audio\\\\genres\\\\rock'\n",
    "rock=listdirectory(path_rock)"
   ]
  },
  {
   "cell_type": "code",
   "execution_count": 4,
   "metadata": {},
   "outputs": [
    {
     "data": {
      "text/html": [
       "<div>\n",
       "<style scoped>\n",
       "    .dataframe tbody tr th:only-of-type {\n",
       "        vertical-align: middle;\n",
       "    }\n",
       "\n",
       "    .dataframe tbody tr th {\n",
       "        vertical-align: top;\n",
       "    }\n",
       "\n",
       "    .dataframe thead th {\n",
       "        text-align: right;\n",
       "    }\n",
       "</style>\n",
       "<table border=\"1\" class=\"dataframe\">\n",
       "  <thead>\n",
       "    <tr style=\"text-align: right;\">\n",
       "      <th></th>\n",
       "      <th>0</th>\n",
       "      <th>1</th>\n",
       "      <th>2</th>\n",
       "      <th>3</th>\n",
       "      <th>4</th>\n",
       "      <th>5</th>\n",
       "      <th>6</th>\n",
       "      <th>7</th>\n",
       "      <th>8</th>\n",
       "      <th>9</th>\n",
       "      <th>...</th>\n",
       "      <th>90</th>\n",
       "      <th>91</th>\n",
       "      <th>92</th>\n",
       "      <th>93</th>\n",
       "      <th>94</th>\n",
       "      <th>95</th>\n",
       "      <th>96</th>\n",
       "      <th>97</th>\n",
       "      <th>98</th>\n",
       "      <th>99</th>\n",
       "    </tr>\n",
       "  </thead>\n",
       "  <tbody>\n",
       "    <tr>\n",
       "      <th>blues</th>\n",
       "      <td>C:\\Users\\didin\\Desktop\\Projet Audio\\genres\\blu...</td>\n",
       "      <td>C:\\Users\\didin\\Desktop\\Projet Audio\\genres\\blu...</td>\n",
       "      <td>C:\\Users\\didin\\Desktop\\Projet Audio\\genres\\blu...</td>\n",
       "      <td>C:\\Users\\didin\\Desktop\\Projet Audio\\genres\\blu...</td>\n",
       "      <td>C:\\Users\\didin\\Desktop\\Projet Audio\\genres\\blu...</td>\n",
       "      <td>C:\\Users\\didin\\Desktop\\Projet Audio\\genres\\blu...</td>\n",
       "      <td>C:\\Users\\didin\\Desktop\\Projet Audio\\genres\\blu...</td>\n",
       "      <td>C:\\Users\\didin\\Desktop\\Projet Audio\\genres\\blu...</td>\n",
       "      <td>C:\\Users\\didin\\Desktop\\Projet Audio\\genres\\blu...</td>\n",
       "      <td>C:\\Users\\didin\\Desktop\\Projet Audio\\genres\\blu...</td>\n",
       "      <td>...</td>\n",
       "      <td>C:\\Users\\didin\\Desktop\\Projet Audio\\genres\\blu...</td>\n",
       "      <td>C:\\Users\\didin\\Desktop\\Projet Audio\\genres\\blu...</td>\n",
       "      <td>C:\\Users\\didin\\Desktop\\Projet Audio\\genres\\blu...</td>\n",
       "      <td>C:\\Users\\didin\\Desktop\\Projet Audio\\genres\\blu...</td>\n",
       "      <td>C:\\Users\\didin\\Desktop\\Projet Audio\\genres\\blu...</td>\n",
       "      <td>C:\\Users\\didin\\Desktop\\Projet Audio\\genres\\blu...</td>\n",
       "      <td>C:\\Users\\didin\\Desktop\\Projet Audio\\genres\\blu...</td>\n",
       "      <td>C:\\Users\\didin\\Desktop\\Projet Audio\\genres\\blu...</td>\n",
       "      <td>C:\\Users\\didin\\Desktop\\Projet Audio\\genres\\blu...</td>\n",
       "      <td>C:\\Users\\didin\\Desktop\\Projet Audio\\genres\\blu...</td>\n",
       "    </tr>\n",
       "    <tr>\n",
       "      <th>classical</th>\n",
       "      <td>C:\\Users\\didin\\Desktop\\Projet Audio\\genres\\cla...</td>\n",
       "      <td>C:\\Users\\didin\\Desktop\\Projet Audio\\genres\\cla...</td>\n",
       "      <td>C:\\Users\\didin\\Desktop\\Projet Audio\\genres\\cla...</td>\n",
       "      <td>C:\\Users\\didin\\Desktop\\Projet Audio\\genres\\cla...</td>\n",
       "      <td>C:\\Users\\didin\\Desktop\\Projet Audio\\genres\\cla...</td>\n",
       "      <td>C:\\Users\\didin\\Desktop\\Projet Audio\\genres\\cla...</td>\n",
       "      <td>C:\\Users\\didin\\Desktop\\Projet Audio\\genres\\cla...</td>\n",
       "      <td>C:\\Users\\didin\\Desktop\\Projet Audio\\genres\\cla...</td>\n",
       "      <td>C:\\Users\\didin\\Desktop\\Projet Audio\\genres\\cla...</td>\n",
       "      <td>C:\\Users\\didin\\Desktop\\Projet Audio\\genres\\cla...</td>\n",
       "      <td>...</td>\n",
       "      <td>C:\\Users\\didin\\Desktop\\Projet Audio\\genres\\cla...</td>\n",
       "      <td>C:\\Users\\didin\\Desktop\\Projet Audio\\genres\\cla...</td>\n",
       "      <td>C:\\Users\\didin\\Desktop\\Projet Audio\\genres\\cla...</td>\n",
       "      <td>C:\\Users\\didin\\Desktop\\Projet Audio\\genres\\cla...</td>\n",
       "      <td>C:\\Users\\didin\\Desktop\\Projet Audio\\genres\\cla...</td>\n",
       "      <td>C:\\Users\\didin\\Desktop\\Projet Audio\\genres\\cla...</td>\n",
       "      <td>C:\\Users\\didin\\Desktop\\Projet Audio\\genres\\cla...</td>\n",
       "      <td>C:\\Users\\didin\\Desktop\\Projet Audio\\genres\\cla...</td>\n",
       "      <td>C:\\Users\\didin\\Desktop\\Projet Audio\\genres\\cla...</td>\n",
       "      <td>C:\\Users\\didin\\Desktop\\Projet Audio\\genres\\cla...</td>\n",
       "    </tr>\n",
       "    <tr>\n",
       "      <th>country</th>\n",
       "      <td>C:\\Users\\didin\\Desktop\\Projet Audio\\genres\\cou...</td>\n",
       "      <td>C:\\Users\\didin\\Desktop\\Projet Audio\\genres\\cou...</td>\n",
       "      <td>C:\\Users\\didin\\Desktop\\Projet Audio\\genres\\cou...</td>\n",
       "      <td>C:\\Users\\didin\\Desktop\\Projet Audio\\genres\\cou...</td>\n",
       "      <td>C:\\Users\\didin\\Desktop\\Projet Audio\\genres\\cou...</td>\n",
       "      <td>C:\\Users\\didin\\Desktop\\Projet Audio\\genres\\cou...</td>\n",
       "      <td>C:\\Users\\didin\\Desktop\\Projet Audio\\genres\\cou...</td>\n",
       "      <td>C:\\Users\\didin\\Desktop\\Projet Audio\\genres\\cou...</td>\n",
       "      <td>C:\\Users\\didin\\Desktop\\Projet Audio\\genres\\cou...</td>\n",
       "      <td>C:\\Users\\didin\\Desktop\\Projet Audio\\genres\\cou...</td>\n",
       "      <td>...</td>\n",
       "      <td>C:\\Users\\didin\\Desktop\\Projet Audio\\genres\\cou...</td>\n",
       "      <td>C:\\Users\\didin\\Desktop\\Projet Audio\\genres\\cou...</td>\n",
       "      <td>C:\\Users\\didin\\Desktop\\Projet Audio\\genres\\cou...</td>\n",
       "      <td>C:\\Users\\didin\\Desktop\\Projet Audio\\genres\\cou...</td>\n",
       "      <td>C:\\Users\\didin\\Desktop\\Projet Audio\\genres\\cou...</td>\n",
       "      <td>C:\\Users\\didin\\Desktop\\Projet Audio\\genres\\cou...</td>\n",
       "      <td>C:\\Users\\didin\\Desktop\\Projet Audio\\genres\\cou...</td>\n",
       "      <td>C:\\Users\\didin\\Desktop\\Projet Audio\\genres\\cou...</td>\n",
       "      <td>C:\\Users\\didin\\Desktop\\Projet Audio\\genres\\cou...</td>\n",
       "      <td>C:\\Users\\didin\\Desktop\\Projet Audio\\genres\\cou...</td>\n",
       "    </tr>\n",
       "    <tr>\n",
       "      <th>disco</th>\n",
       "      <td>C:\\Users\\didin\\Desktop\\Projet Audio\\genres\\dis...</td>\n",
       "      <td>C:\\Users\\didin\\Desktop\\Projet Audio\\genres\\dis...</td>\n",
       "      <td>C:\\Users\\didin\\Desktop\\Projet Audio\\genres\\dis...</td>\n",
       "      <td>C:\\Users\\didin\\Desktop\\Projet Audio\\genres\\dis...</td>\n",
       "      <td>C:\\Users\\didin\\Desktop\\Projet Audio\\genres\\dis...</td>\n",
       "      <td>C:\\Users\\didin\\Desktop\\Projet Audio\\genres\\dis...</td>\n",
       "      <td>C:\\Users\\didin\\Desktop\\Projet Audio\\genres\\dis...</td>\n",
       "      <td>C:\\Users\\didin\\Desktop\\Projet Audio\\genres\\dis...</td>\n",
       "      <td>C:\\Users\\didin\\Desktop\\Projet Audio\\genres\\dis...</td>\n",
       "      <td>C:\\Users\\didin\\Desktop\\Projet Audio\\genres\\dis...</td>\n",
       "      <td>...</td>\n",
       "      <td>C:\\Users\\didin\\Desktop\\Projet Audio\\genres\\dis...</td>\n",
       "      <td>C:\\Users\\didin\\Desktop\\Projet Audio\\genres\\dis...</td>\n",
       "      <td>C:\\Users\\didin\\Desktop\\Projet Audio\\genres\\dis...</td>\n",
       "      <td>C:\\Users\\didin\\Desktop\\Projet Audio\\genres\\dis...</td>\n",
       "      <td>C:\\Users\\didin\\Desktop\\Projet Audio\\genres\\dis...</td>\n",
       "      <td>C:\\Users\\didin\\Desktop\\Projet Audio\\genres\\dis...</td>\n",
       "      <td>C:\\Users\\didin\\Desktop\\Projet Audio\\genres\\dis...</td>\n",
       "      <td>C:\\Users\\didin\\Desktop\\Projet Audio\\genres\\dis...</td>\n",
       "      <td>C:\\Users\\didin\\Desktop\\Projet Audio\\genres\\dis...</td>\n",
       "      <td>C:\\Users\\didin\\Desktop\\Projet Audio\\genres\\dis...</td>\n",
       "    </tr>\n",
       "    <tr>\n",
       "      <th>hiphop</th>\n",
       "      <td>C:\\Users\\didin\\Desktop\\Projet Audio\\genres\\hip...</td>\n",
       "      <td>C:\\Users\\didin\\Desktop\\Projet Audio\\genres\\hip...</td>\n",
       "      <td>C:\\Users\\didin\\Desktop\\Projet Audio\\genres\\hip...</td>\n",
       "      <td>C:\\Users\\didin\\Desktop\\Projet Audio\\genres\\hip...</td>\n",
       "      <td>C:\\Users\\didin\\Desktop\\Projet Audio\\genres\\hip...</td>\n",
       "      <td>C:\\Users\\didin\\Desktop\\Projet Audio\\genres\\hip...</td>\n",
       "      <td>C:\\Users\\didin\\Desktop\\Projet Audio\\genres\\hip...</td>\n",
       "      <td>C:\\Users\\didin\\Desktop\\Projet Audio\\genres\\hip...</td>\n",
       "      <td>C:\\Users\\didin\\Desktop\\Projet Audio\\genres\\hip...</td>\n",
       "      <td>C:\\Users\\didin\\Desktop\\Projet Audio\\genres\\hip...</td>\n",
       "      <td>...</td>\n",
       "      <td>C:\\Users\\didin\\Desktop\\Projet Audio\\genres\\hip...</td>\n",
       "      <td>C:\\Users\\didin\\Desktop\\Projet Audio\\genres\\hip...</td>\n",
       "      <td>C:\\Users\\didin\\Desktop\\Projet Audio\\genres\\hip...</td>\n",
       "      <td>C:\\Users\\didin\\Desktop\\Projet Audio\\genres\\hip...</td>\n",
       "      <td>C:\\Users\\didin\\Desktop\\Projet Audio\\genres\\hip...</td>\n",
       "      <td>C:\\Users\\didin\\Desktop\\Projet Audio\\genres\\hip...</td>\n",
       "      <td>C:\\Users\\didin\\Desktop\\Projet Audio\\genres\\hip...</td>\n",
       "      <td>C:\\Users\\didin\\Desktop\\Projet Audio\\genres\\hip...</td>\n",
       "      <td>C:\\Users\\didin\\Desktop\\Projet Audio\\genres\\hip...</td>\n",
       "      <td>C:\\Users\\didin\\Desktop\\Projet Audio\\genres\\hip...</td>\n",
       "    </tr>\n",
       "    <tr>\n",
       "      <th>jazz</th>\n",
       "      <td>C:\\Users\\didin\\Desktop\\Projet Audio\\genres\\jaz...</td>\n",
       "      <td>C:\\Users\\didin\\Desktop\\Projet Audio\\genres\\jaz...</td>\n",
       "      <td>C:\\Users\\didin\\Desktop\\Projet Audio\\genres\\jaz...</td>\n",
       "      <td>C:\\Users\\didin\\Desktop\\Projet Audio\\genres\\jaz...</td>\n",
       "      <td>C:\\Users\\didin\\Desktop\\Projet Audio\\genres\\jaz...</td>\n",
       "      <td>C:\\Users\\didin\\Desktop\\Projet Audio\\genres\\jaz...</td>\n",
       "      <td>C:\\Users\\didin\\Desktop\\Projet Audio\\genres\\jaz...</td>\n",
       "      <td>C:\\Users\\didin\\Desktop\\Projet Audio\\genres\\jaz...</td>\n",
       "      <td>C:\\Users\\didin\\Desktop\\Projet Audio\\genres\\jaz...</td>\n",
       "      <td>C:\\Users\\didin\\Desktop\\Projet Audio\\genres\\jaz...</td>\n",
       "      <td>...</td>\n",
       "      <td>C:\\Users\\didin\\Desktop\\Projet Audio\\genres\\jaz...</td>\n",
       "      <td>C:\\Users\\didin\\Desktop\\Projet Audio\\genres\\jaz...</td>\n",
       "      <td>C:\\Users\\didin\\Desktop\\Projet Audio\\genres\\jaz...</td>\n",
       "      <td>C:\\Users\\didin\\Desktop\\Projet Audio\\genres\\jaz...</td>\n",
       "      <td>C:\\Users\\didin\\Desktop\\Projet Audio\\genres\\jaz...</td>\n",
       "      <td>C:\\Users\\didin\\Desktop\\Projet Audio\\genres\\jaz...</td>\n",
       "      <td>C:\\Users\\didin\\Desktop\\Projet Audio\\genres\\jaz...</td>\n",
       "      <td>C:\\Users\\didin\\Desktop\\Projet Audio\\genres\\jaz...</td>\n",
       "      <td>C:\\Users\\didin\\Desktop\\Projet Audio\\genres\\jaz...</td>\n",
       "      <td>C:\\Users\\didin\\Desktop\\Projet Audio\\genres\\jaz...</td>\n",
       "    </tr>\n",
       "    <tr>\n",
       "      <th>metal</th>\n",
       "      <td>C:\\Users\\didin\\Desktop\\Projet Audio\\genres\\met...</td>\n",
       "      <td>C:\\Users\\didin\\Desktop\\Projet Audio\\genres\\met...</td>\n",
       "      <td>C:\\Users\\didin\\Desktop\\Projet Audio\\genres\\met...</td>\n",
       "      <td>C:\\Users\\didin\\Desktop\\Projet Audio\\genres\\met...</td>\n",
       "      <td>C:\\Users\\didin\\Desktop\\Projet Audio\\genres\\met...</td>\n",
       "      <td>C:\\Users\\didin\\Desktop\\Projet Audio\\genres\\met...</td>\n",
       "      <td>C:\\Users\\didin\\Desktop\\Projet Audio\\genres\\met...</td>\n",
       "      <td>C:\\Users\\didin\\Desktop\\Projet Audio\\genres\\met...</td>\n",
       "      <td>C:\\Users\\didin\\Desktop\\Projet Audio\\genres\\met...</td>\n",
       "      <td>C:\\Users\\didin\\Desktop\\Projet Audio\\genres\\met...</td>\n",
       "      <td>...</td>\n",
       "      <td>C:\\Users\\didin\\Desktop\\Projet Audio\\genres\\met...</td>\n",
       "      <td>C:\\Users\\didin\\Desktop\\Projet Audio\\genres\\met...</td>\n",
       "      <td>C:\\Users\\didin\\Desktop\\Projet Audio\\genres\\met...</td>\n",
       "      <td>C:\\Users\\didin\\Desktop\\Projet Audio\\genres\\met...</td>\n",
       "      <td>C:\\Users\\didin\\Desktop\\Projet Audio\\genres\\met...</td>\n",
       "      <td>C:\\Users\\didin\\Desktop\\Projet Audio\\genres\\met...</td>\n",
       "      <td>C:\\Users\\didin\\Desktop\\Projet Audio\\genres\\met...</td>\n",
       "      <td>C:\\Users\\didin\\Desktop\\Projet Audio\\genres\\met...</td>\n",
       "      <td>C:\\Users\\didin\\Desktop\\Projet Audio\\genres\\met...</td>\n",
       "      <td>C:\\Users\\didin\\Desktop\\Projet Audio\\genres\\met...</td>\n",
       "    </tr>\n",
       "    <tr>\n",
       "      <th>pop</th>\n",
       "      <td>C:\\Users\\didin\\Desktop\\Projet Audio\\genres\\pop...</td>\n",
       "      <td>C:\\Users\\didin\\Desktop\\Projet Audio\\genres\\pop...</td>\n",
       "      <td>C:\\Users\\didin\\Desktop\\Projet Audio\\genres\\pop...</td>\n",
       "      <td>C:\\Users\\didin\\Desktop\\Projet Audio\\genres\\pop...</td>\n",
       "      <td>C:\\Users\\didin\\Desktop\\Projet Audio\\genres\\pop...</td>\n",
       "      <td>C:\\Users\\didin\\Desktop\\Projet Audio\\genres\\pop...</td>\n",
       "      <td>C:\\Users\\didin\\Desktop\\Projet Audio\\genres\\pop...</td>\n",
       "      <td>C:\\Users\\didin\\Desktop\\Projet Audio\\genres\\pop...</td>\n",
       "      <td>C:\\Users\\didin\\Desktop\\Projet Audio\\genres\\pop...</td>\n",
       "      <td>C:\\Users\\didin\\Desktop\\Projet Audio\\genres\\pop...</td>\n",
       "      <td>...</td>\n",
       "      <td>C:\\Users\\didin\\Desktop\\Projet Audio\\genres\\pop...</td>\n",
       "      <td>C:\\Users\\didin\\Desktop\\Projet Audio\\genres\\pop...</td>\n",
       "      <td>C:\\Users\\didin\\Desktop\\Projet Audio\\genres\\pop...</td>\n",
       "      <td>C:\\Users\\didin\\Desktop\\Projet Audio\\genres\\pop...</td>\n",
       "      <td>C:\\Users\\didin\\Desktop\\Projet Audio\\genres\\pop...</td>\n",
       "      <td>C:\\Users\\didin\\Desktop\\Projet Audio\\genres\\pop...</td>\n",
       "      <td>C:\\Users\\didin\\Desktop\\Projet Audio\\genres\\pop...</td>\n",
       "      <td>C:\\Users\\didin\\Desktop\\Projet Audio\\genres\\pop...</td>\n",
       "      <td>C:\\Users\\didin\\Desktop\\Projet Audio\\genres\\pop...</td>\n",
       "      <td>C:\\Users\\didin\\Desktop\\Projet Audio\\genres\\pop...</td>\n",
       "    </tr>\n",
       "    <tr>\n",
       "      <th>reggae</th>\n",
       "      <td>C:\\Users\\didin\\Desktop\\Projet Audio\\genres\\reg...</td>\n",
       "      <td>C:\\Users\\didin\\Desktop\\Projet Audio\\genres\\reg...</td>\n",
       "      <td>C:\\Users\\didin\\Desktop\\Projet Audio\\genres\\reg...</td>\n",
       "      <td>C:\\Users\\didin\\Desktop\\Projet Audio\\genres\\reg...</td>\n",
       "      <td>C:\\Users\\didin\\Desktop\\Projet Audio\\genres\\reg...</td>\n",
       "      <td>C:\\Users\\didin\\Desktop\\Projet Audio\\genres\\reg...</td>\n",
       "      <td>C:\\Users\\didin\\Desktop\\Projet Audio\\genres\\reg...</td>\n",
       "      <td>C:\\Users\\didin\\Desktop\\Projet Audio\\genres\\reg...</td>\n",
       "      <td>C:\\Users\\didin\\Desktop\\Projet Audio\\genres\\reg...</td>\n",
       "      <td>C:\\Users\\didin\\Desktop\\Projet Audio\\genres\\reg...</td>\n",
       "      <td>...</td>\n",
       "      <td>C:\\Users\\didin\\Desktop\\Projet Audio\\genres\\reg...</td>\n",
       "      <td>C:\\Users\\didin\\Desktop\\Projet Audio\\genres\\reg...</td>\n",
       "      <td>C:\\Users\\didin\\Desktop\\Projet Audio\\genres\\reg...</td>\n",
       "      <td>C:\\Users\\didin\\Desktop\\Projet Audio\\genres\\reg...</td>\n",
       "      <td>C:\\Users\\didin\\Desktop\\Projet Audio\\genres\\reg...</td>\n",
       "      <td>C:\\Users\\didin\\Desktop\\Projet Audio\\genres\\reg...</td>\n",
       "      <td>C:\\Users\\didin\\Desktop\\Projet Audio\\genres\\reg...</td>\n",
       "      <td>C:\\Users\\didin\\Desktop\\Projet Audio\\genres\\reg...</td>\n",
       "      <td>C:\\Users\\didin\\Desktop\\Projet Audio\\genres\\reg...</td>\n",
       "      <td>C:\\Users\\didin\\Desktop\\Projet Audio\\genres\\reg...</td>\n",
       "    </tr>\n",
       "    <tr>\n",
       "      <th>rock</th>\n",
       "      <td>C:\\Users\\didin\\Desktop\\Projet Audio\\genres\\roc...</td>\n",
       "      <td>C:\\Users\\didin\\Desktop\\Projet Audio\\genres\\roc...</td>\n",
       "      <td>C:\\Users\\didin\\Desktop\\Projet Audio\\genres\\roc...</td>\n",
       "      <td>C:\\Users\\didin\\Desktop\\Projet Audio\\genres\\roc...</td>\n",
       "      <td>C:\\Users\\didin\\Desktop\\Projet Audio\\genres\\roc...</td>\n",
       "      <td>C:\\Users\\didin\\Desktop\\Projet Audio\\genres\\roc...</td>\n",
       "      <td>C:\\Users\\didin\\Desktop\\Projet Audio\\genres\\roc...</td>\n",
       "      <td>C:\\Users\\didin\\Desktop\\Projet Audio\\genres\\roc...</td>\n",
       "      <td>C:\\Users\\didin\\Desktop\\Projet Audio\\genres\\roc...</td>\n",
       "      <td>C:\\Users\\didin\\Desktop\\Projet Audio\\genres\\roc...</td>\n",
       "      <td>...</td>\n",
       "      <td>C:\\Users\\didin\\Desktop\\Projet Audio\\genres\\roc...</td>\n",
       "      <td>C:\\Users\\didin\\Desktop\\Projet Audio\\genres\\roc...</td>\n",
       "      <td>C:\\Users\\didin\\Desktop\\Projet Audio\\genres\\roc...</td>\n",
       "      <td>C:\\Users\\didin\\Desktop\\Projet Audio\\genres\\roc...</td>\n",
       "      <td>C:\\Users\\didin\\Desktop\\Projet Audio\\genres\\roc...</td>\n",
       "      <td>C:\\Users\\didin\\Desktop\\Projet Audio\\genres\\roc...</td>\n",
       "      <td>C:\\Users\\didin\\Desktop\\Projet Audio\\genres\\roc...</td>\n",
       "      <td>C:\\Users\\didin\\Desktop\\Projet Audio\\genres\\roc...</td>\n",
       "      <td>C:\\Users\\didin\\Desktop\\Projet Audio\\genres\\roc...</td>\n",
       "      <td>C:\\Users\\didin\\Desktop\\Projet Audio\\genres\\roc...</td>\n",
       "    </tr>\n",
       "  </tbody>\n",
       "</table>\n",
       "<p>10 rows × 100 columns</p>\n",
       "</div>"
      ],
      "text/plain": [
       "                                                           0  \\\n",
       "blues      C:\\Users\\didin\\Desktop\\Projet Audio\\genres\\blu...   \n",
       "classical  C:\\Users\\didin\\Desktop\\Projet Audio\\genres\\cla...   \n",
       "country    C:\\Users\\didin\\Desktop\\Projet Audio\\genres\\cou...   \n",
       "disco      C:\\Users\\didin\\Desktop\\Projet Audio\\genres\\dis...   \n",
       "hiphop     C:\\Users\\didin\\Desktop\\Projet Audio\\genres\\hip...   \n",
       "jazz       C:\\Users\\didin\\Desktop\\Projet Audio\\genres\\jaz...   \n",
       "metal      C:\\Users\\didin\\Desktop\\Projet Audio\\genres\\met...   \n",
       "pop        C:\\Users\\didin\\Desktop\\Projet Audio\\genres\\pop...   \n",
       "reggae     C:\\Users\\didin\\Desktop\\Projet Audio\\genres\\reg...   \n",
       "rock       C:\\Users\\didin\\Desktop\\Projet Audio\\genres\\roc...   \n",
       "\n",
       "                                                           1  \\\n",
       "blues      C:\\Users\\didin\\Desktop\\Projet Audio\\genres\\blu...   \n",
       "classical  C:\\Users\\didin\\Desktop\\Projet Audio\\genres\\cla...   \n",
       "country    C:\\Users\\didin\\Desktop\\Projet Audio\\genres\\cou...   \n",
       "disco      C:\\Users\\didin\\Desktop\\Projet Audio\\genres\\dis...   \n",
       "hiphop     C:\\Users\\didin\\Desktop\\Projet Audio\\genres\\hip...   \n",
       "jazz       C:\\Users\\didin\\Desktop\\Projet Audio\\genres\\jaz...   \n",
       "metal      C:\\Users\\didin\\Desktop\\Projet Audio\\genres\\met...   \n",
       "pop        C:\\Users\\didin\\Desktop\\Projet Audio\\genres\\pop...   \n",
       "reggae     C:\\Users\\didin\\Desktop\\Projet Audio\\genres\\reg...   \n",
       "rock       C:\\Users\\didin\\Desktop\\Projet Audio\\genres\\roc...   \n",
       "\n",
       "                                                           2  \\\n",
       "blues      C:\\Users\\didin\\Desktop\\Projet Audio\\genres\\blu...   \n",
       "classical  C:\\Users\\didin\\Desktop\\Projet Audio\\genres\\cla...   \n",
       "country    C:\\Users\\didin\\Desktop\\Projet Audio\\genres\\cou...   \n",
       "disco      C:\\Users\\didin\\Desktop\\Projet Audio\\genres\\dis...   \n",
       "hiphop     C:\\Users\\didin\\Desktop\\Projet Audio\\genres\\hip...   \n",
       "jazz       C:\\Users\\didin\\Desktop\\Projet Audio\\genres\\jaz...   \n",
       "metal      C:\\Users\\didin\\Desktop\\Projet Audio\\genres\\met...   \n",
       "pop        C:\\Users\\didin\\Desktop\\Projet Audio\\genres\\pop...   \n",
       "reggae     C:\\Users\\didin\\Desktop\\Projet Audio\\genres\\reg...   \n",
       "rock       C:\\Users\\didin\\Desktop\\Projet Audio\\genres\\roc...   \n",
       "\n",
       "                                                           3  \\\n",
       "blues      C:\\Users\\didin\\Desktop\\Projet Audio\\genres\\blu...   \n",
       "classical  C:\\Users\\didin\\Desktop\\Projet Audio\\genres\\cla...   \n",
       "country    C:\\Users\\didin\\Desktop\\Projet Audio\\genres\\cou...   \n",
       "disco      C:\\Users\\didin\\Desktop\\Projet Audio\\genres\\dis...   \n",
       "hiphop     C:\\Users\\didin\\Desktop\\Projet Audio\\genres\\hip...   \n",
       "jazz       C:\\Users\\didin\\Desktop\\Projet Audio\\genres\\jaz...   \n",
       "metal      C:\\Users\\didin\\Desktop\\Projet Audio\\genres\\met...   \n",
       "pop        C:\\Users\\didin\\Desktop\\Projet Audio\\genres\\pop...   \n",
       "reggae     C:\\Users\\didin\\Desktop\\Projet Audio\\genres\\reg...   \n",
       "rock       C:\\Users\\didin\\Desktop\\Projet Audio\\genres\\roc...   \n",
       "\n",
       "                                                           4  \\\n",
       "blues      C:\\Users\\didin\\Desktop\\Projet Audio\\genres\\blu...   \n",
       "classical  C:\\Users\\didin\\Desktop\\Projet Audio\\genres\\cla...   \n",
       "country    C:\\Users\\didin\\Desktop\\Projet Audio\\genres\\cou...   \n",
       "disco      C:\\Users\\didin\\Desktop\\Projet Audio\\genres\\dis...   \n",
       "hiphop     C:\\Users\\didin\\Desktop\\Projet Audio\\genres\\hip...   \n",
       "jazz       C:\\Users\\didin\\Desktop\\Projet Audio\\genres\\jaz...   \n",
       "metal      C:\\Users\\didin\\Desktop\\Projet Audio\\genres\\met...   \n",
       "pop        C:\\Users\\didin\\Desktop\\Projet Audio\\genres\\pop...   \n",
       "reggae     C:\\Users\\didin\\Desktop\\Projet Audio\\genres\\reg...   \n",
       "rock       C:\\Users\\didin\\Desktop\\Projet Audio\\genres\\roc...   \n",
       "\n",
       "                                                           5  \\\n",
       "blues      C:\\Users\\didin\\Desktop\\Projet Audio\\genres\\blu...   \n",
       "classical  C:\\Users\\didin\\Desktop\\Projet Audio\\genres\\cla...   \n",
       "country    C:\\Users\\didin\\Desktop\\Projet Audio\\genres\\cou...   \n",
       "disco      C:\\Users\\didin\\Desktop\\Projet Audio\\genres\\dis...   \n",
       "hiphop     C:\\Users\\didin\\Desktop\\Projet Audio\\genres\\hip...   \n",
       "jazz       C:\\Users\\didin\\Desktop\\Projet Audio\\genres\\jaz...   \n",
       "metal      C:\\Users\\didin\\Desktop\\Projet Audio\\genres\\met...   \n",
       "pop        C:\\Users\\didin\\Desktop\\Projet Audio\\genres\\pop...   \n",
       "reggae     C:\\Users\\didin\\Desktop\\Projet Audio\\genres\\reg...   \n",
       "rock       C:\\Users\\didin\\Desktop\\Projet Audio\\genres\\roc...   \n",
       "\n",
       "                                                           6  \\\n",
       "blues      C:\\Users\\didin\\Desktop\\Projet Audio\\genres\\blu...   \n",
       "classical  C:\\Users\\didin\\Desktop\\Projet Audio\\genres\\cla...   \n",
       "country    C:\\Users\\didin\\Desktop\\Projet Audio\\genres\\cou...   \n",
       "disco      C:\\Users\\didin\\Desktop\\Projet Audio\\genres\\dis...   \n",
       "hiphop     C:\\Users\\didin\\Desktop\\Projet Audio\\genres\\hip...   \n",
       "jazz       C:\\Users\\didin\\Desktop\\Projet Audio\\genres\\jaz...   \n",
       "metal      C:\\Users\\didin\\Desktop\\Projet Audio\\genres\\met...   \n",
       "pop        C:\\Users\\didin\\Desktop\\Projet Audio\\genres\\pop...   \n",
       "reggae     C:\\Users\\didin\\Desktop\\Projet Audio\\genres\\reg...   \n",
       "rock       C:\\Users\\didin\\Desktop\\Projet Audio\\genres\\roc...   \n",
       "\n",
       "                                                           7  \\\n",
       "blues      C:\\Users\\didin\\Desktop\\Projet Audio\\genres\\blu...   \n",
       "classical  C:\\Users\\didin\\Desktop\\Projet Audio\\genres\\cla...   \n",
       "country    C:\\Users\\didin\\Desktop\\Projet Audio\\genres\\cou...   \n",
       "disco      C:\\Users\\didin\\Desktop\\Projet Audio\\genres\\dis...   \n",
       "hiphop     C:\\Users\\didin\\Desktop\\Projet Audio\\genres\\hip...   \n",
       "jazz       C:\\Users\\didin\\Desktop\\Projet Audio\\genres\\jaz...   \n",
       "metal      C:\\Users\\didin\\Desktop\\Projet Audio\\genres\\met...   \n",
       "pop        C:\\Users\\didin\\Desktop\\Projet Audio\\genres\\pop...   \n",
       "reggae     C:\\Users\\didin\\Desktop\\Projet Audio\\genres\\reg...   \n",
       "rock       C:\\Users\\didin\\Desktop\\Projet Audio\\genres\\roc...   \n",
       "\n",
       "                                                           8  \\\n",
       "blues      C:\\Users\\didin\\Desktop\\Projet Audio\\genres\\blu...   \n",
       "classical  C:\\Users\\didin\\Desktop\\Projet Audio\\genres\\cla...   \n",
       "country    C:\\Users\\didin\\Desktop\\Projet Audio\\genres\\cou...   \n",
       "disco      C:\\Users\\didin\\Desktop\\Projet Audio\\genres\\dis...   \n",
       "hiphop     C:\\Users\\didin\\Desktop\\Projet Audio\\genres\\hip...   \n",
       "jazz       C:\\Users\\didin\\Desktop\\Projet Audio\\genres\\jaz...   \n",
       "metal      C:\\Users\\didin\\Desktop\\Projet Audio\\genres\\met...   \n",
       "pop        C:\\Users\\didin\\Desktop\\Projet Audio\\genres\\pop...   \n",
       "reggae     C:\\Users\\didin\\Desktop\\Projet Audio\\genres\\reg...   \n",
       "rock       C:\\Users\\didin\\Desktop\\Projet Audio\\genres\\roc...   \n",
       "\n",
       "                                                           9  ...  \\\n",
       "blues      C:\\Users\\didin\\Desktop\\Projet Audio\\genres\\blu...  ...   \n",
       "classical  C:\\Users\\didin\\Desktop\\Projet Audio\\genres\\cla...  ...   \n",
       "country    C:\\Users\\didin\\Desktop\\Projet Audio\\genres\\cou...  ...   \n",
       "disco      C:\\Users\\didin\\Desktop\\Projet Audio\\genres\\dis...  ...   \n",
       "hiphop     C:\\Users\\didin\\Desktop\\Projet Audio\\genres\\hip...  ...   \n",
       "jazz       C:\\Users\\didin\\Desktop\\Projet Audio\\genres\\jaz...  ...   \n",
       "metal      C:\\Users\\didin\\Desktop\\Projet Audio\\genres\\met...  ...   \n",
       "pop        C:\\Users\\didin\\Desktop\\Projet Audio\\genres\\pop...  ...   \n",
       "reggae     C:\\Users\\didin\\Desktop\\Projet Audio\\genres\\reg...  ...   \n",
       "rock       C:\\Users\\didin\\Desktop\\Projet Audio\\genres\\roc...  ...   \n",
       "\n",
       "                                                          90  \\\n",
       "blues      C:\\Users\\didin\\Desktop\\Projet Audio\\genres\\blu...   \n",
       "classical  C:\\Users\\didin\\Desktop\\Projet Audio\\genres\\cla...   \n",
       "country    C:\\Users\\didin\\Desktop\\Projet Audio\\genres\\cou...   \n",
       "disco      C:\\Users\\didin\\Desktop\\Projet Audio\\genres\\dis...   \n",
       "hiphop     C:\\Users\\didin\\Desktop\\Projet Audio\\genres\\hip...   \n",
       "jazz       C:\\Users\\didin\\Desktop\\Projet Audio\\genres\\jaz...   \n",
       "metal      C:\\Users\\didin\\Desktop\\Projet Audio\\genres\\met...   \n",
       "pop        C:\\Users\\didin\\Desktop\\Projet Audio\\genres\\pop...   \n",
       "reggae     C:\\Users\\didin\\Desktop\\Projet Audio\\genres\\reg...   \n",
       "rock       C:\\Users\\didin\\Desktop\\Projet Audio\\genres\\roc...   \n",
       "\n",
       "                                                          91  \\\n",
       "blues      C:\\Users\\didin\\Desktop\\Projet Audio\\genres\\blu...   \n",
       "classical  C:\\Users\\didin\\Desktop\\Projet Audio\\genres\\cla...   \n",
       "country    C:\\Users\\didin\\Desktop\\Projet Audio\\genres\\cou...   \n",
       "disco      C:\\Users\\didin\\Desktop\\Projet Audio\\genres\\dis...   \n",
       "hiphop     C:\\Users\\didin\\Desktop\\Projet Audio\\genres\\hip...   \n",
       "jazz       C:\\Users\\didin\\Desktop\\Projet Audio\\genres\\jaz...   \n",
       "metal      C:\\Users\\didin\\Desktop\\Projet Audio\\genres\\met...   \n",
       "pop        C:\\Users\\didin\\Desktop\\Projet Audio\\genres\\pop...   \n",
       "reggae     C:\\Users\\didin\\Desktop\\Projet Audio\\genres\\reg...   \n",
       "rock       C:\\Users\\didin\\Desktop\\Projet Audio\\genres\\roc...   \n",
       "\n",
       "                                                          92  \\\n",
       "blues      C:\\Users\\didin\\Desktop\\Projet Audio\\genres\\blu...   \n",
       "classical  C:\\Users\\didin\\Desktop\\Projet Audio\\genres\\cla...   \n",
       "country    C:\\Users\\didin\\Desktop\\Projet Audio\\genres\\cou...   \n",
       "disco      C:\\Users\\didin\\Desktop\\Projet Audio\\genres\\dis...   \n",
       "hiphop     C:\\Users\\didin\\Desktop\\Projet Audio\\genres\\hip...   \n",
       "jazz       C:\\Users\\didin\\Desktop\\Projet Audio\\genres\\jaz...   \n",
       "metal      C:\\Users\\didin\\Desktop\\Projet Audio\\genres\\met...   \n",
       "pop        C:\\Users\\didin\\Desktop\\Projet Audio\\genres\\pop...   \n",
       "reggae     C:\\Users\\didin\\Desktop\\Projet Audio\\genres\\reg...   \n",
       "rock       C:\\Users\\didin\\Desktop\\Projet Audio\\genres\\roc...   \n",
       "\n",
       "                                                          93  \\\n",
       "blues      C:\\Users\\didin\\Desktop\\Projet Audio\\genres\\blu...   \n",
       "classical  C:\\Users\\didin\\Desktop\\Projet Audio\\genres\\cla...   \n",
       "country    C:\\Users\\didin\\Desktop\\Projet Audio\\genres\\cou...   \n",
       "disco      C:\\Users\\didin\\Desktop\\Projet Audio\\genres\\dis...   \n",
       "hiphop     C:\\Users\\didin\\Desktop\\Projet Audio\\genres\\hip...   \n",
       "jazz       C:\\Users\\didin\\Desktop\\Projet Audio\\genres\\jaz...   \n",
       "metal      C:\\Users\\didin\\Desktop\\Projet Audio\\genres\\met...   \n",
       "pop        C:\\Users\\didin\\Desktop\\Projet Audio\\genres\\pop...   \n",
       "reggae     C:\\Users\\didin\\Desktop\\Projet Audio\\genres\\reg...   \n",
       "rock       C:\\Users\\didin\\Desktop\\Projet Audio\\genres\\roc...   \n",
       "\n",
       "                                                          94  \\\n",
       "blues      C:\\Users\\didin\\Desktop\\Projet Audio\\genres\\blu...   \n",
       "classical  C:\\Users\\didin\\Desktop\\Projet Audio\\genres\\cla...   \n",
       "country    C:\\Users\\didin\\Desktop\\Projet Audio\\genres\\cou...   \n",
       "disco      C:\\Users\\didin\\Desktop\\Projet Audio\\genres\\dis...   \n",
       "hiphop     C:\\Users\\didin\\Desktop\\Projet Audio\\genres\\hip...   \n",
       "jazz       C:\\Users\\didin\\Desktop\\Projet Audio\\genres\\jaz...   \n",
       "metal      C:\\Users\\didin\\Desktop\\Projet Audio\\genres\\met...   \n",
       "pop        C:\\Users\\didin\\Desktop\\Projet Audio\\genres\\pop...   \n",
       "reggae     C:\\Users\\didin\\Desktop\\Projet Audio\\genres\\reg...   \n",
       "rock       C:\\Users\\didin\\Desktop\\Projet Audio\\genres\\roc...   \n",
       "\n",
       "                                                          95  \\\n",
       "blues      C:\\Users\\didin\\Desktop\\Projet Audio\\genres\\blu...   \n",
       "classical  C:\\Users\\didin\\Desktop\\Projet Audio\\genres\\cla...   \n",
       "country    C:\\Users\\didin\\Desktop\\Projet Audio\\genres\\cou...   \n",
       "disco      C:\\Users\\didin\\Desktop\\Projet Audio\\genres\\dis...   \n",
       "hiphop     C:\\Users\\didin\\Desktop\\Projet Audio\\genres\\hip...   \n",
       "jazz       C:\\Users\\didin\\Desktop\\Projet Audio\\genres\\jaz...   \n",
       "metal      C:\\Users\\didin\\Desktop\\Projet Audio\\genres\\met...   \n",
       "pop        C:\\Users\\didin\\Desktop\\Projet Audio\\genres\\pop...   \n",
       "reggae     C:\\Users\\didin\\Desktop\\Projet Audio\\genres\\reg...   \n",
       "rock       C:\\Users\\didin\\Desktop\\Projet Audio\\genres\\roc...   \n",
       "\n",
       "                                                          96  \\\n",
       "blues      C:\\Users\\didin\\Desktop\\Projet Audio\\genres\\blu...   \n",
       "classical  C:\\Users\\didin\\Desktop\\Projet Audio\\genres\\cla...   \n",
       "country    C:\\Users\\didin\\Desktop\\Projet Audio\\genres\\cou...   \n",
       "disco      C:\\Users\\didin\\Desktop\\Projet Audio\\genres\\dis...   \n",
       "hiphop     C:\\Users\\didin\\Desktop\\Projet Audio\\genres\\hip...   \n",
       "jazz       C:\\Users\\didin\\Desktop\\Projet Audio\\genres\\jaz...   \n",
       "metal      C:\\Users\\didin\\Desktop\\Projet Audio\\genres\\met...   \n",
       "pop        C:\\Users\\didin\\Desktop\\Projet Audio\\genres\\pop...   \n",
       "reggae     C:\\Users\\didin\\Desktop\\Projet Audio\\genres\\reg...   \n",
       "rock       C:\\Users\\didin\\Desktop\\Projet Audio\\genres\\roc...   \n",
       "\n",
       "                                                          97  \\\n",
       "blues      C:\\Users\\didin\\Desktop\\Projet Audio\\genres\\blu...   \n",
       "classical  C:\\Users\\didin\\Desktop\\Projet Audio\\genres\\cla...   \n",
       "country    C:\\Users\\didin\\Desktop\\Projet Audio\\genres\\cou...   \n",
       "disco      C:\\Users\\didin\\Desktop\\Projet Audio\\genres\\dis...   \n",
       "hiphop     C:\\Users\\didin\\Desktop\\Projet Audio\\genres\\hip...   \n",
       "jazz       C:\\Users\\didin\\Desktop\\Projet Audio\\genres\\jaz...   \n",
       "metal      C:\\Users\\didin\\Desktop\\Projet Audio\\genres\\met...   \n",
       "pop        C:\\Users\\didin\\Desktop\\Projet Audio\\genres\\pop...   \n",
       "reggae     C:\\Users\\didin\\Desktop\\Projet Audio\\genres\\reg...   \n",
       "rock       C:\\Users\\didin\\Desktop\\Projet Audio\\genres\\roc...   \n",
       "\n",
       "                                                          98  \\\n",
       "blues      C:\\Users\\didin\\Desktop\\Projet Audio\\genres\\blu...   \n",
       "classical  C:\\Users\\didin\\Desktop\\Projet Audio\\genres\\cla...   \n",
       "country    C:\\Users\\didin\\Desktop\\Projet Audio\\genres\\cou...   \n",
       "disco      C:\\Users\\didin\\Desktop\\Projet Audio\\genres\\dis...   \n",
       "hiphop     C:\\Users\\didin\\Desktop\\Projet Audio\\genres\\hip...   \n",
       "jazz       C:\\Users\\didin\\Desktop\\Projet Audio\\genres\\jaz...   \n",
       "metal      C:\\Users\\didin\\Desktop\\Projet Audio\\genres\\met...   \n",
       "pop        C:\\Users\\didin\\Desktop\\Projet Audio\\genres\\pop...   \n",
       "reggae     C:\\Users\\didin\\Desktop\\Projet Audio\\genres\\reg...   \n",
       "rock       C:\\Users\\didin\\Desktop\\Projet Audio\\genres\\roc...   \n",
       "\n",
       "                                                          99  \n",
       "blues      C:\\Users\\didin\\Desktop\\Projet Audio\\genres\\blu...  \n",
       "classical  C:\\Users\\didin\\Desktop\\Projet Audio\\genres\\cla...  \n",
       "country    C:\\Users\\didin\\Desktop\\Projet Audio\\genres\\cou...  \n",
       "disco      C:\\Users\\didin\\Desktop\\Projet Audio\\genres\\dis...  \n",
       "hiphop     C:\\Users\\didin\\Desktop\\Projet Audio\\genres\\hip...  \n",
       "jazz       C:\\Users\\didin\\Desktop\\Projet Audio\\genres\\jaz...  \n",
       "metal      C:\\Users\\didin\\Desktop\\Projet Audio\\genres\\met...  \n",
       "pop        C:\\Users\\didin\\Desktop\\Projet Audio\\genres\\pop...  \n",
       "reggae     C:\\Users\\didin\\Desktop\\Projet Audio\\genres\\reg...  \n",
       "rock       C:\\Users\\didin\\Desktop\\Projet Audio\\genres\\roc...  \n",
       "\n",
       "[10 rows x 100 columns]"
      ]
     },
     "execution_count": 4,
     "metadata": {},
     "output_type": "execute_result"
    }
   ],
   "source": [
    "import pandas\n",
    "lab=np.arange(10)\n",
    "colmn = ['0']\n",
    "for i in range(1, 100):\n",
    "    colmn.append(str(i))\n",
    "spect_ = ([blues, classical, country, disco, hiphop, jazz, metal, pop, reggae, rock])\n",
    "df_x = pandas.DataFrame(spect_, index = ['blues', 'classical', 'country', 'disco', 'hiphop', 'jazz', 'metal', 'pop', 'reggae', 'rock'], columns= colmn)\n",
    "df_x"
   ]
  },
  {
   "cell_type": "markdown",
   "metadata": {},
   "source": [
    "Segmentation des audios pour augmenter la base des mfcc"
   ]
  },
  {
   "cell_type": "code",
   "execution_count": 5,
   "metadata": {},
   "outputs": [],
   "source": [
    "def segmentation_mfcc(chemin,label): \n",
    "    a=0\n",
    "    labels=[]\n",
    "   \n",
    "    mfcc=[]\n",
    "    duree=30\n",
    "    y, sr = librosa.load(chemin)\n",
    "    max_len=int(duree*sr/10)\n",
    " \n",
    "    for i in range(10):\n",
    "        lmin=max_len*i\n",
    "        lmax=lmin + max_len\n",
    "        mfcc_ = librosa.feature.mfcc(y=y[lmin:lmax] , sr=sr, n_mfcc=13, n_fft=2048, hop_length=512)\n",
    "        mfcc_ = mfcc_.T\n",
    "        if (len(mfcc_)==130):\n",
    "            mfcc.append(mfcc_ )\n",
    "            labels.append(label)\n",
    "    mfcc=np.array(mfcc)        \n",
    "    return mfcc,labels\n"
   ]
  },
  {
   "cell_type": "markdown",
   "metadata": {},
   "source": [
    "Segmentation des audios pour augmenter la base des mel"
   ]
  },
  {
   "cell_type": "code",
   "execution_count": 6,
   "metadata": {},
   "outputs": [],
   "source": [
    "def segmentation_mel(chemin,label): \n",
    "    a=0\n",
    "    k=0\n",
    "    labels=[]\n",
    "   \n",
    "    mel=[]\n",
    "    duree=30\n",
    "    y, sr = librosa.load(chemin)\n",
    "    max_len=int(duree*sr/10)\n",
    " \n",
    "    for i in range(10):\n",
    "        lmin=max_len*i\n",
    "        lmax=lmin + max_len\n",
    "        mel_ = librosa.feature.melspectrogram(y=y[lmin:lmax] , sr=sr, n_mels=13,n_fft=1024,hop_length=512)\n",
    "        mel_ = mel_.T\n",
    "        if (len(mel_)==130):\n",
    "            mel.append(mel_ )\n",
    "            a=a+1\n",
    "            labels.append(label) \n",
    "    mel=np.array(mel)\n",
    "    return mel,labels"
   ]
  },
  {
   "cell_type": "markdown",
   "metadata": {},
   "source": [
    "creation de la base mfcc"
   ]
  },
  {
   "cell_type": "code",
   "execution_count": 7,
   "metadata": {},
   "outputs": [
    {
     "name": "stdout",
     "output_type": "stream",
     "text": [
      "base mfcc chargée\n"
     ]
    }
   ],
   "source": [
    "base_mfcc=np.zeros((9996, 130, 13))\n",
    "labels_mfcc=np.zeros(9996)\n",
    "k=0\n",
    "for i in range(np.shape(df_x)[0]):\n",
    "        for j in range(np.shape(df_x)[1]):\n",
    "                mfcc,lab=segmentation_mfcc(df_x.iloc[i,j],i)\n",
    "                for l in range( mfcc.shape[0]):\n",
    "                    base_mfcc[k,:,:]=mfcc[l,:,:]\n",
    "                    labels_mfcc[k]=lab[l]\n",
    "                    k+=1\n",
    "print(\"base mfcc chargée\")          "
   ]
  },
  {
   "cell_type": "markdown",
   "metadata": {},
   "source": [
    "creation de la base mel spectrogram"
   ]
  },
  {
   "cell_type": "code",
   "execution_count": 8,
   "metadata": {},
   "outputs": [
    {
     "name": "stdout",
     "output_type": "stream",
     "text": [
      "base mel chargée\n"
     ]
    }
   ],
   "source": [
    "base_mel=np.zeros((9996, 130, 13))\n",
    "labels_mel=np.zeros(9996)\n",
    "k=0\n",
    "for i in range(np.shape(df_x)[0]):\n",
    "        for j in range(np.shape(df_x)[1]):\n",
    "                mel,lab=segmentation_mel(df_x.iloc[i,j],i)\n",
    "                for l in range( mel.shape[0]):\n",
    "                    base_mel[k,:,:]=mel[l,:,:]\n",
    "                    labels_mel[k]=lab[l]\n",
    "                    k+=1\n",
    "print(\"base mel chargée\")    "
   ]
  },
  {
   "cell_type": "code",
   "execution_count": 33,
   "metadata": {},
   "outputs": [
    {
     "data": {
      "image/png": "[encoded data removed]",
      "text/plain": [
       "<Figure size 1440x720 with 10 Axes>"
      ]
     },
     "metadata": {},
     "output_type": "display_data"
    }
   ],
   "source": [
    "# visualiser une image pour chaque genre\n",
    "plt.figure(figsize=(20,10))\n",
    "for i in range(10):\n",
    "    plt.subplot(1,10,i+1)\n",
    "    plt.xticks([])\n",
    "    plt.yticks([])\n",
    "    plt.grid(False)\n",
    "    plt.imshow(base_mfcc[1000*i])\n",
    "    plt.xlabel([labels_mfcc[1000*i]])\n",
    "plt.show()"
   ]
  },
  {
   "cell_type": "code",
   "execution_count": 32,
   "metadata": {},
   "outputs": [
    {
     "data": {
      "image/png": "[encoded data removed]",
      "text/plain": [
       "<Figure size 1440x720 with 10 Axes>"
      ]
     },
     "metadata": {},
     "output_type": "display_data"
    }
   ],
   "source": [
    "# visualiser une image pour chaque genre\n",
    "plt.figure(figsize=(20,10))\n",
    "for i in range(10):\n",
    "    plt.subplot(1,10,i+1)\n",
    "    plt.xticks([])\n",
    "    plt.yticks([])\n",
    "    plt.grid(False)\n",
    "    plt.imshow(base_mel[1000*i])\n",
    "    plt.xlabel([labels_mel[1000*i]])\n",
    "plt.show()"
   ]
  },
  {
   "cell_type": "markdown",
   "metadata": {},
   "source": [
    "separation des données en base d apprentissage et de tests"
   ]
  },
  {
   "cell_type": "code",
   "execution_count": 9,
   "metadata": {},
   "outputs": [
    {
     "name": "stdout",
     "output_type": "stream",
     "text": [
      "(6997, 130, 13)\n",
      "(6997,)\n",
      "(2999, 130, 13)\n",
      "(2999,)\n",
      "(6997, 130, 13)\n",
      "(6997,)\n",
      "(2999, 130, 13)\n",
      "(2999,)\n"
     ]
    }
   ],
   "source": [
    "X_train_mfcc, X_test_mfcc, y_train_mfcc, y_test_mfcc = train_test_split(base_mfcc, labels_mfcc, test_size=0.3)\n",
    "X_train_mel, X_test_mel, y_train_mel, y_test_mel = train_test_split(base_mel, labels_mel, test_size=0.3)\n",
    "print(X_train_mfcc.shape)\n",
    "print(y_train_mfcc.shape)\n",
    "print(X_test_mfcc.shape)\n",
    "print(y_test_mfcc.shape)\n",
    "print(X_train_mel.shape)\n",
    "print(y_train_mel.shape)\n",
    "print(X_test_mel.shape)\n",
    "print(y_test_mel.shape)"
   ]
  },
  {
   "cell_type": "markdown",
   "metadata": {},
   "source": [
    "Model simple avec des couches dense"
   ]
  },
  {
   "cell_type": "code",
   "execution_count": 10,
   "metadata": {},
   "outputs": [
    {
     "name": "stdout",
     "output_type": "stream",
     "text": [
      "Model: \"sequential\"\n",
      "_________________________________________________________________\n",
      "Layer (type)                 Output Shape              Param #   \n",
      "=================================================================\n",
      "flatten (Flatten)            (None, 1690)              0         \n",
      "_________________________________________________________________\n",
      "dense (Dense)                (None, 512)               865792    \n",
      "_________________________________________________________________\n",
      "dense_1 (Dense)              (None, 256)               131328    \n",
      "_________________________________________________________________\n",
      "dense_2 (Dense)              (None, 64)                16448     \n",
      "_________________________________________________________________\n",
      "dense_3 (Dense)              (None, 10)                650       \n",
      "=================================================================\n",
      "Total params: 1,014,218\n",
      "Trainable params: 1,014,218\n",
      "Non-trainable params: 0\n",
      "_________________________________________________________________\n"
     ]
    }
   ],
   "source": [
    "model = tf.keras.Sequential()\n",
    "model.add(tf.keras.layers.Flatten(input_shape=(X_train_mfcc.shape[1], X_train_mfcc.shape[2])))\n",
    "model.add(tf.keras.layers.Dense(512, activation='relu'))\n",
    "model.add(tf.keras.layers.Dense(256, activation='relu'))\n",
    "model.add(tf.keras.layers.Dense(64, activation='relu'))\n",
    "model.add(tf.keras.layers.Dense(10, activation='softmax'))\n",
    "\n",
    "# compile model\n",
    "optimiser = tf.keras.optimizers.Adam(learning_rate=0.0001)\n",
    "model.compile(optimizer=optimiser,loss='sparse_categorical_crossentropy',metrics=['accuracy'])\n",
    "\n",
    "model.summary()"
   ]
  },
  {
   "cell_type": "markdown",
   "metadata": {},
   "source": [
    "Apprentissage sur la base mfcc"
   ]
  },
  {
   "cell_type": "code",
   "execution_count": 11,
   "metadata": {},
   "outputs": [
    {
     "name": "stdout",
     "output_type": "stream",
     "text": [
      "Train on 4897 samples, validate on 2100 samples\n",
      "Epoch 1/50\n",
      "4897/4897 [==============================] - 4s 729us/sample - loss: 9.8606 - accuracy: 0.2971 - val_loss: 4.7035 - val_accuracy: 0.3448\n",
      "Epoch 2/50\n",
      "4897/4897 [==============================] - 1s 294us/sample - loss: 3.5295 - accuracy: 0.3788 - val_loss: 4.1732 - val_accuracy: 0.3200\n",
      "Epoch 3/50\n",
      "4897/4897 [==============================] - 1s 292us/sample - loss: 2.6057 - accuracy: 0.4405 - val_loss: 3.8148 - val_accuracy: 0.3662\n",
      "Epoch 4/50\n",
      "4897/4897 [==============================] - 1s 205us/sample - loss: 2.4216 - accuracy: 0.4711 - val_loss: 3.0451 - val_accuracy: 0.3843\n",
      "Epoch 5/50\n",
      "4897/4897 [==============================] - 1s 236us/sample - loss: 1.7082 - accuracy: 0.5411 - val_loss: 2.6407 - val_accuracy: 0.4057\n",
      "Epoch 6/50\n",
      "4897/4897 [==============================] - 1s 278us/sample - loss: 1.3588 - accuracy: 0.6036 - val_loss: 2.7867 - val_accuracy: 0.4157\n",
      "Epoch 7/50\n",
      "4897/4897 [==============================] - 1s 257us/sample - loss: 1.3586 - accuracy: 0.6091 - val_loss: 2.3605 - val_accuracy: 0.4257\n",
      "Epoch 8/50\n",
      "4897/4897 [==============================] - 1s 249us/sample - loss: 1.1070 - accuracy: 0.6518 - val_loss: 2.2353 - val_accuracy: 0.4638\n",
      "Epoch 9/50\n",
      "4897/4897 [==============================] - 1s 287us/sample - loss: 0.8654 - accuracy: 0.7166 - val_loss: 2.5421 - val_accuracy: 0.4576\n",
      "Epoch 10/50\n",
      "4897/4897 [==============================] - 1s 292us/sample - loss: 0.9138 - accuracy: 0.7113 - val_loss: 2.4642 - val_accuracy: 0.4533\n",
      "Epoch 11/50\n",
      "4897/4897 [==============================] - 1s 258us/sample - loss: 0.7332 - accuracy: 0.7568 - val_loss: 2.3528 - val_accuracy: 0.4767\n",
      "Epoch 12/50\n",
      "4897/4897 [==============================] - 1s 289us/sample - loss: 0.5843 - accuracy: 0.7991 - val_loss: 2.5652 - val_accuracy: 0.4548\n",
      "Epoch 13/50\n",
      "4897/4897 [==============================] - 1s 288us/sample - loss: 0.8159 - accuracy: 0.7370 - val_loss: 2.2953 - val_accuracy: 0.4914\n",
      "Epoch 14/50\n",
      "4897/4897 [==============================] - 1s 285us/sample - loss: 0.4702 - accuracy: 0.8366 - val_loss: 2.2733 - val_accuracy: 0.4962\n",
      "Epoch 15/50\n",
      "4897/4897 [==============================] - 1s 269us/sample - loss: 0.3758 - accuracy: 0.8779 - val_loss: 2.3986 - val_accuracy: 0.4790\n",
      "Epoch 16/50\n",
      "4897/4897 [==============================] - 1s 244us/sample - loss: 0.6687 - accuracy: 0.7848 - val_loss: 2.2548 - val_accuracy: 0.4967\n",
      "Epoch 17/50\n",
      "4897/4897 [==============================] - 1s 171us/sample - loss: 0.4097 - accuracy: 0.8589 - val_loss: 2.3387 - val_accuracy: 0.4943\n",
      "Epoch 18/50\n",
      "4897/4897 [==============================] - 1s 252us/sample - loss: 0.3251 - accuracy: 0.8936 - val_loss: 2.2816 - val_accuracy: 0.5119\n",
      "Epoch 19/50\n",
      "4897/4897 [==============================] - 1s 280us/sample - loss: 0.2947 - accuracy: 0.9020 - val_loss: 2.3707 - val_accuracy: 0.5110\n",
      "Epoch 20/50\n",
      "4897/4897 [==============================] - 1s 280us/sample - loss: 0.8265 - accuracy: 0.7507 - val_loss: 2.4343 - val_accuracy: 0.5086\n",
      "Epoch 21/50\n",
      "4897/4897 [==============================] - 1s 297us/sample - loss: 0.3521 - accuracy: 0.8814 - val_loss: 2.3248 - val_accuracy: 0.5252\n",
      "Epoch 22/50\n",
      "4897/4897 [==============================] - 1s 287us/sample - loss: 0.2509 - accuracy: 0.9189 - val_loss: 2.3675 - val_accuracy: 0.5200\n",
      "Epoch 23/50\n",
      "4897/4897 [==============================] - 1s 290us/sample - loss: 0.3112 - accuracy: 0.9006 - val_loss: 2.3779 - val_accuracy: 0.5162\n",
      "Epoch 24/50\n",
      "4897/4897 [==============================] - 1s 290us/sample - loss: 0.1909 - accuracy: 0.9408 - val_loss: 2.9747 - val_accuracy: 0.4624\n",
      "Epoch 25/50\n",
      "4897/4897 [==============================] - 1s 302us/sample - loss: 0.3498 - accuracy: 0.9050 - val_loss: 2.2841 - val_accuracy: 0.5395\n",
      "Epoch 26/50\n",
      "4897/4897 [==============================] - 1s 291us/sample - loss: 0.1488 - accuracy: 0.9571 - val_loss: 2.3244 - val_accuracy: 0.5419\n",
      "Epoch 27/50\n",
      "4897/4897 [==============================] - 1s 287us/sample - loss: 0.1014 - accuracy: 0.9763 - val_loss: 2.4052 - val_accuracy: 0.5286\n",
      "Epoch 28/50\n",
      "4897/4897 [==============================] - 1s 248us/sample - loss: 0.1172 - accuracy: 0.9671 - val_loss: 2.4287 - val_accuracy: 0.5210\n",
      "Epoch 29/50\n",
      "4897/4897 [==============================] - 1s 197us/sample - loss: 0.1070 - accuracy: 0.9743 - val_loss: 2.4116 - val_accuracy: 0.5371\n",
      "Epoch 30/50\n",
      "4897/4897 [==============================] - 1s 288us/sample - loss: 0.0941 - accuracy: 0.9761 - val_loss: 2.6978 - val_accuracy: 0.5086\n",
      "Epoch 31/50\n",
      "4897/4897 [==============================] - 1s 258us/sample - loss: 0.0872 - accuracy: 0.9796 - val_loss: 3.1722 - val_accuracy: 0.4871\n",
      "Epoch 32/50\n",
      "4897/4897 [==============================] - 1s 255us/sample - loss: 1.0362 - accuracy: 0.7356 - val_loss: 2.5659 - val_accuracy: 0.5114\n",
      "Epoch 33/50\n",
      "4897/4897 [==============================] - 1s 290us/sample - loss: 0.2716 - accuracy: 0.9067 - val_loss: 2.3362 - val_accuracy: 0.5414\n",
      "Epoch 34/50\n",
      "4897/4897 [==============================] - 1s 226us/sample - loss: 0.1188 - accuracy: 0.9696 - val_loss: 2.4487 - val_accuracy: 0.5348\n",
      "Epoch 35/50\n",
      "4897/4897 [==============================] - 1s 160us/sample - loss: 0.0697 - accuracy: 0.9833 - val_loss: 2.3242 - val_accuracy: 0.5538\n",
      "Epoch 36/50\n",
      "4897/4897 [==============================] - 1s 239us/sample - loss: 0.0484 - accuracy: 0.9931 - val_loss: 2.3985 - val_accuracy: 0.5600\n",
      "Epoch 37/50\n",
      "4897/4897 [==============================] - 1s 280us/sample - loss: 0.0421 - accuracy: 0.9922 - val_loss: 2.6785 - val_accuracy: 0.5276\n",
      "Epoch 38/50\n",
      "4897/4897 [==============================] - 1s 291us/sample - loss: 0.9466 - accuracy: 0.7690 - val_loss: 2.6446 - val_accuracy: 0.5290\n",
      "Epoch 39/50\n",
      "4897/4897 [==============================] - 1s 292us/sample - loss: 0.1865 - accuracy: 0.9391 - val_loss: 2.3386 - val_accuracy: 0.5543\n",
      "Epoch 40/50\n",
      "4897/4897 [==============================] - 1s 288us/sample - loss: 0.1060 - accuracy: 0.9704 - val_loss: 2.5495 - val_accuracy: 0.5395\n",
      "Epoch 41/50\n",
      "4897/4897 [==============================] - 1s 237us/sample - loss: 0.1148 - accuracy: 0.9739 - val_loss: 2.5701 - val_accuracy: 0.5514\n",
      "Epoch 42/50\n",
      "4897/4897 [==============================] - 1s 247us/sample - loss: 0.0725 - accuracy: 0.9814 - val_loss: 2.4592 - val_accuracy: 0.5629\n",
      "Epoch 43/50\n",
      "4897/4897 [==============================] - 1s 287us/sample - loss: 0.0543 - accuracy: 0.9888 - val_loss: 2.6433 - val_accuracy: 0.5471\n",
      "Epoch 44/50\n",
      "4897/4897 [==============================] - 1s 286us/sample - loss: 0.0547 - accuracy: 0.9871 - val_loss: 2.4555 - val_accuracy: 0.5686\n",
      "Epoch 45/50\n",
      "4897/4897 [==============================] - 1s 266us/sample - loss: 0.1603 - accuracy: 0.9553 - val_loss: 2.7633 - val_accuracy: 0.5433\n",
      "Epoch 46/50\n",
      "4897/4897 [==============================] - 1s 171us/sample - loss: 0.3698 - accuracy: 0.8916 - val_loss: 2.6042 - val_accuracy: 0.5629\n",
      "Epoch 47/50\n",
      "4897/4897 [==============================] - 1s 271us/sample - loss: 0.1334 - accuracy: 0.9594 - val_loss: 2.5129 - val_accuracy: 0.5757\n",
      "Epoch 48/50\n",
      "4897/4897 [==============================] - 1s 242us/sample - loss: 0.0772 - accuracy: 0.9790 - val_loss: 3.0514 - val_accuracy: 0.5281\n",
      "Epoch 49/50\n",
      "4897/4897 [==============================] - 1s 249us/sample - loss: 0.0520 - accuracy: 0.9884 - val_loss: 2.7634 - val_accuracy: 0.5543\n",
      "Epoch 50/50\n",
      "4897/4897 [==============================] - 1s 275us/sample - loss: 0.0583 - accuracy: 0.9837 - val_loss: 2.5732 - val_accuracy: 0.5805\n"
     ]
    }
   ],
   "source": [
    "history = model.fit(X_train_mfcc, y_train_mfcc, validation_split=0.3, batch_size=32, epochs=50)"
   ]
  },
  {
   "cell_type": "markdown",
   "metadata": {},
   "source": [
    "fonction pour afficher la figure de l'accuracy"
   ]
  },
  {
   "cell_type": "code",
   "execution_count": 12,
   "metadata": {},
   "outputs": [],
   "source": [
    "def affiche_acc(history):\n",
    "    # summarize history for accuracy\n",
    "    plt.plot(history.history['accuracy'])\n",
    "    plt.plot(history.history['val_accuracy'])\n",
    "    plt.title('model accuracy')\n",
    "    plt.ylabel('accuracy')\n",
    "    plt.xlabel('epoch')\n",
    "    plt.legend(['train', 'test'], loc='upper left')\n",
    "    plt.show()"
   ]
  },
  {
   "cell_type": "markdown",
   "metadata": {},
   "source": [
    "fonction pour afficher la figure de l'erreur"
   ]
  },
  {
   "cell_type": "code",
   "execution_count": 13,
   "metadata": {},
   "outputs": [],
   "source": [
    "def affiche_loss(history):\n",
    "    # summarize history for accuracy\n",
    "    plt.plot(history.history['loss'])\n",
    "    plt.plot(history.history['val_loss'])\n",
    "    plt.title('model loss')\n",
    "    plt.ylabel('loss')\n",
    "    plt.xlabel('epoch')\n",
    "    plt.legend(['train', 'test'], loc='upper left')\n",
    "    plt.show()"
   ]
  },
  {
   "cell_type": "markdown",
   "metadata": {},
   "source": [
    "figure de l'accuracy"
   ]
  },
  {
   "cell_type": "code",
   "execution_count": 14,
   "metadata": {},
   "outputs": [
    {
     "data": {
      "image/png": "[encoded data removed]",
      "text/plain": [
       "<Figure size 432x288 with 1 Axes>"
      ]
     },
     "metadata": {
      "needs_background": "light"
     },
     "output_type": "display_data"
    }
   ],
   "source": [
    "affiche_acc(history)"
   ]
  },
  {
   "cell_type": "markdown",
   "metadata": {},
   "source": [
    "figure de l'erreur"
   ]
  },
  {
   "cell_type": "code",
   "execution_count": 15,
   "metadata": {},
   "outputs": [
    {
     "data": {
      "image/png": "[encoded data removed]",
      "text/plain": [
       "<Figure size 432x288 with 1 Axes>"
      ]
     },
     "metadata": {
      "needs_background": "light"
     },
     "output_type": "display_data"
    }
   ],
   "source": [
    "affiche_loss(history)"
   ]
  },
  {
   "cell_type": "markdown",
   "metadata": {},
   "source": [
    "Evaluation sur la base de test mfcc"
   ]
  },
  {
   "cell_type": "code",
   "execution_count": 16,
   "metadata": {},
   "outputs": [
    {
     "name": "stdout",
     "output_type": "stream",
     "text": [
      "2999/2999 [==============================] - 0s 94us/sample - loss: 2.6014 - accuracy: 0.5759\n",
      "Test accuracy: 0.5758586\n"
     ]
    }
   ],
   "source": [
    "test_loss, test_acc = model.evaluate(X_test_mfcc,y_test_mfcc)\n",
    "print('Test accuracy:', test_acc)"
   ]
  },
  {
   "cell_type": "markdown",
   "metadata": {},
   "source": [
    "redimensionner la base mfcc pour un model CNN"
   ]
  },
  {
   "cell_type": "code",
   "execution_count": 17,
   "metadata": {},
   "outputs": [
    {
     "name": "stdout",
     "output_type": "stream",
     "text": [
      "(6997, 130, 13, 1)\n",
      "(2999, 130, 13, 1)\n"
     ]
    }
   ],
   "source": [
    "X_train_mfcc_2 = X_train_mfcc.reshape(X_train_mfcc.shape[0],X_train_mfcc.shape[1],X_train_mfcc.shape[2],1)\n",
    "X_test_mfcc_2 = X_test_mfcc.reshape(X_test_mfcc.shape[0],X_test_mfcc.shape[1],X_test_mfcc.shape[2],1)\n",
    "\n",
    "input_shape_mfcc = (X_train_mfcc_2.shape[1], X_train_mfcc_2.shape[2], 1)\n",
    "print(X_train_mfcc_2.shape)\n",
    "print(X_test_mfcc_2.shape)"
   ]
  },
  {
   "cell_type": "markdown",
   "metadata": {},
   "source": [
    "architecture avec des CNN pour les mfcc"
   ]
  },
  {
   "cell_type": "code",
   "execution_count": 20,
   "metadata": {},
   "outputs": [
    {
     "name": "stdout",
     "output_type": "stream",
     "text": [
      "Model: \"sequential_2\"\n",
      "_________________________________________________________________\n",
      "Layer (type)                 Output Shape              Param #   \n",
      "=================================================================\n",
      "conv2d_3 (Conv2D)            (None, 128, 11, 256)      2560      \n",
      "_________________________________________________________________\n",
      "max_pooling2d_3 (MaxPooling2 (None, 64, 6, 256)        0         \n",
      "_________________________________________________________________\n",
      "batch_normalization_3 (Batch (None, 64, 6, 256)        1024      \n",
      "_________________________________________________________________\n",
      "conv2d_4 (Conv2D)            (None, 62, 4, 256)        590080    \n",
      "_________________________________________________________________\n",
      "max_pooling2d_4 (MaxPooling2 (None, 31, 2, 256)        0         \n",
      "_________________________________________________________________\n",
      "batch_normalization_4 (Batch (None, 31, 2, 256)        1024      \n",
      "_________________________________________________________________\n",
      "conv2d_5 (Conv2D)            (None, 30, 1, 128)        131200    \n",
      "_________________________________________________________________\n",
      "max_pooling2d_5 (MaxPooling2 (None, 15, 1, 128)        0         \n",
      "_________________________________________________________________\n",
      "batch_normalization_5 (Batch (None, 15, 1, 128)        512       \n",
      "_________________________________________________________________\n",
      "flatten_2 (Flatten)          (None, 1920)              0         \n",
      "_________________________________________________________________\n",
      "dense_9 (Dense)              (None, 256)               491776    \n",
      "_________________________________________________________________\n",
      "dense_10 (Dense)             (None, 128)               32896     \n",
      "_________________________________________________________________\n",
      "dense_11 (Dense)             (None, 64)                8256      \n",
      "_________________________________________________________________\n",
      "dense_12 (Dense)             (None, 32)                2080      \n",
      "_________________________________________________________________\n",
      "dropout_1 (Dropout)          (None, 32)                0         \n",
      "_________________________________________________________________\n",
      "dense_13 (Dense)             (None, 10)                330       \n",
      "=================================================================\n",
      "Total params: 1,261,738\n",
      "Trainable params: 1,260,458\n",
      "Non-trainable params: 1,280\n",
      "_________________________________________________________________\n"
     ]
    }
   ],
   "source": [
    "model_CNN_mfcc = keras.Sequential()\n",
    "\n",
    "    # 1st conv layer\n",
    "model_CNN_mfcc.add(keras.layers.Conv2D(256, (3, 3), activation='relu', input_shape=input_shape_mfcc))\n",
    "model_CNN_mfcc.add(keras.layers.MaxPooling2D((3, 3), strides=(2, 2), padding='same'))\n",
    "model_CNN_mfcc.add(keras.layers.BatchNormalization())\n",
    "\n",
    "    # 2nd conv layer\n",
    "model_CNN_mfcc.add(keras.layers.Conv2D(256, (3, 3), activation='relu'))\n",
    "model_CNN_mfcc.add(keras.layers.MaxPooling2D((3, 3), strides=(2, 2), padding='same'))\n",
    "model_CNN_mfcc.add(keras.layers.BatchNormalization())\n",
    "\n",
    "    # 3rd conv layer\n",
    "model_CNN_mfcc.add(keras.layers.Conv2D(128, (2, 2), activation='relu'))\n",
    "model_CNN_mfcc.add(keras.layers.MaxPooling2D((2, 2), strides=(2, 2), padding='same'))\n",
    "model_CNN_mfcc.add(keras.layers.BatchNormalization())\n",
    "\n",
    "    # flatten output and feed it into dense layer\n",
    "model_CNN_mfcc.add(keras.layers.Flatten())\n",
    "model_CNN_mfcc.add(keras.layers.Dense(256, activation='relu'))\n",
    "model_CNN_mfcc.add(keras.layers.Dense(128, activation='relu'))\n",
    "model_CNN_mfcc.add(keras.layers.Dense(64, activation='tanh'))\n",
    "model_CNN_mfcc.add(keras.layers.Dense(32, activation='tanh'))\n",
    "model_CNN_mfcc.add(keras.layers.Dropout(0.5))\n",
    "\n",
    "    # output layer\n",
    "model_CNN_mfcc.add(keras.layers.Dense(10, activation='softmax'))\n",
    "\n",
    "optimiser = tf.keras.optimizers.Adam(learning_rate=0.0001)\n",
    "model_CNN_mfcc.compile(optimizer=optimiser,loss='sparse_categorical_crossentropy',metrics=['accuracy'])\n",
    "\n",
    "model_CNN_mfcc.summary()"
   ]
  },
  {
   "cell_type": "markdown",
   "metadata": {},
   "source": [
    "apprentissage avec le model CNN sur la base mfcc"
   ]
  },
  {
   "cell_type": "code",
   "execution_count": 21,
   "metadata": {},
   "outputs": [
    {
     "name": "stdout",
     "output_type": "stream",
     "text": [
      "Train on 4897 samples, validate on 2100 samples\n",
      "Epoch 1/50\n",
      "4897/4897 [==============================] - 10s 2ms/sample - loss: 1.9248 - accuracy: 0.3257 - val_loss: 1.7181 - val_accuracy: 0.3862\n",
      "Epoch 2/50\n",
      "4897/4897 [==============================] - 8s 2ms/sample - loss: 1.5504 - accuracy: 0.4599 - val_loss: 1.3580 - val_accuracy: 0.5538\n",
      "Epoch 3/50\n",
      "4897/4897 [==============================] - 7s 2ms/sample - loss: 1.3558 - accuracy: 0.5477 - val_loss: 1.2479 - val_accuracy: 0.5986\n",
      "Epoch 4/50\n",
      "4897/4897 [==============================] - 8s 2ms/sample - loss: 1.2630 - accuracy: 0.5869 - val_loss: 1.1673 - val_accuracy: 0.6219\n",
      "Epoch 5/50\n",
      "4897/4897 [==============================] - 8s 2ms/sample - loss: 1.1166 - accuracy: 0.6406 - val_loss: 1.1689 - val_accuracy: 0.6305\n",
      "Epoch 6/50\n",
      "4897/4897 [==============================] - 7s 2ms/sample - loss: 1.0308 - accuracy: 0.6786 - val_loss: 1.0126 - val_accuracy: 0.6862\n",
      "Epoch 7/50\n",
      "4897/4897 [==============================] - 7s 2ms/sample - loss: 0.9511 - accuracy: 0.7113 - val_loss: 1.0561 - val_accuracy: 0.6500\n",
      "Epoch 8/50\n",
      "4897/4897 [==============================] - 7s 1ms/sample - loss: 0.8661 - accuracy: 0.7462 - val_loss: 0.9277 - val_accuracy: 0.7067\n",
      "Epoch 9/50\n",
      "4897/4897 [==============================] - 7s 2ms/sample - loss: 0.8140 - accuracy: 0.7623 - val_loss: 0.8702 - val_accuracy: 0.7329\n",
      "Epoch 10/50\n",
      "4897/4897 [==============================] - 7s 2ms/sample - loss: 0.7206 - accuracy: 0.7962 - val_loss: 0.8596 - val_accuracy: 0.7281\n",
      "Epoch 11/50\n",
      "4897/4897 [==============================] - 7s 1ms/sample - loss: 0.6576 - accuracy: 0.8148 - val_loss: 0.8684 - val_accuracy: 0.7276\n",
      "Epoch 12/50\n",
      "4897/4897 [==============================] - 8s 2ms/sample - loss: 0.6262 - accuracy: 0.8328 - val_loss: 0.8381 - val_accuracy: 0.7410\n",
      "Epoch 13/50\n",
      "4897/4897 [==============================] - 7s 2ms/sample - loss: 0.5361 - accuracy: 0.8642 - val_loss: 0.8721 - val_accuracy: 0.7233\n",
      "Epoch 14/50\n",
      "4897/4897 [==============================] - 8s 2ms/sample - loss: 0.5477 - accuracy: 0.8550 - val_loss: 0.8257 - val_accuracy: 0.7424\n",
      "Epoch 15/50\n",
      "4897/4897 [==============================] - 8s 2ms/sample - loss: 0.5010 - accuracy: 0.8691 - val_loss: 0.8081 - val_accuracy: 0.7395\n",
      "Epoch 16/50\n",
      "4897/4897 [==============================] - 7s 2ms/sample - loss: 0.5431 - accuracy: 0.8509 - val_loss: 0.9010 - val_accuracy: 0.7071\n",
      "Epoch 17/50\n",
      "4897/4897 [==============================] - 8s 2ms/sample - loss: 0.4200 - accuracy: 0.8977 - val_loss: 0.8254 - val_accuracy: 0.7357\n",
      "Epoch 18/50\n",
      "4897/4897 [==============================] - 7s 2ms/sample - loss: 0.3729 - accuracy: 0.9134 - val_loss: 0.8029 - val_accuracy: 0.7471\n",
      "Epoch 19/50\n",
      "4897/4897 [==============================] - 7s 1ms/sample - loss: 0.3763 - accuracy: 0.9101 - val_loss: 0.7757 - val_accuracy: 0.7581\n",
      "Epoch 20/50\n",
      "4897/4897 [==============================] - 8s 2ms/sample - loss: 0.3847 - accuracy: 0.9059 - val_loss: 0.7607 - val_accuracy: 0.7652\n",
      "Epoch 21/50\n",
      "4897/4897 [==============================] - 7s 2ms/sample - loss: 0.3405 - accuracy: 0.9157 - val_loss: 0.8745 - val_accuracy: 0.7352\n",
      "Epoch 22/50\n",
      "4897/4897 [==============================] - 8s 2ms/sample - loss: 0.2801 - accuracy: 0.9418 - val_loss: 0.7547 - val_accuracy: 0.7690\n",
      "Epoch 23/50\n",
      "4897/4897 [==============================] - 7s 2ms/sample - loss: 0.2702 - accuracy: 0.9420 - val_loss: 0.8804 - val_accuracy: 0.7343\n",
      "Epoch 24/50\n",
      "4897/4897 [==============================] - 7s 2ms/sample - loss: 0.2408 - accuracy: 0.9514 - val_loss: 0.7615 - val_accuracy: 0.7633\n",
      "Epoch 25/50\n",
      "4897/4897 [==============================] - 7s 2ms/sample - loss: 0.2300 - accuracy: 0.9545 - val_loss: 0.7534 - val_accuracy: 0.7686\n",
      "Epoch 26/50\n",
      "4897/4897 [==============================] - 8s 2ms/sample - loss: 0.2325 - accuracy: 0.9530 - val_loss: 0.7607 - val_accuracy: 0.7624\n",
      "Epoch 27/50\n",
      "4897/4897 [==============================] - 8s 2ms/sample - loss: 0.3111 - accuracy: 0.9183 - val_loss: 0.7718 - val_accuracy: 0.7619\n",
      "Epoch 28/50\n",
      "4897/4897 [==============================] - 8s 2ms/sample - loss: 0.2587 - accuracy: 0.9412 - val_loss: 0.7790 - val_accuracy: 0.7686\n",
      "Epoch 29/50\n",
      "4897/4897 [==============================] - 8s 2ms/sample - loss: 0.2507 - accuracy: 0.9430 - val_loss: 0.7957 - val_accuracy: 0.7581\n",
      "Epoch 30/50\n",
      "4897/4897 [==============================] - 7s 2ms/sample - loss: 0.1979 - accuracy: 0.9604 - val_loss: 0.8336 - val_accuracy: 0.7500\n",
      "Epoch 31/50\n",
      "4897/4897 [==============================] - 8s 2ms/sample - loss: 0.1772 - accuracy: 0.9649 - val_loss: 0.8056 - val_accuracy: 0.7629\n",
      "Epoch 32/50\n",
      "4897/4897 [==============================] - 7s 2ms/sample - loss: 0.1674 - accuracy: 0.9673 - val_loss: 0.7920 - val_accuracy: 0.7657\n",
      "Epoch 33/50\n",
      "4897/4897 [==============================] - 7s 2ms/sample - loss: 0.1655 - accuracy: 0.9667 - val_loss: 0.8361 - val_accuracy: 0.7595\n",
      "Epoch 34/50\n",
      "4897/4897 [==============================] - 8s 2ms/sample - loss: 0.1526 - accuracy: 0.9714 - val_loss: 0.9182 - val_accuracy: 0.7419\n",
      "Epoch 35/50\n",
      "4897/4897 [==============================] - 8s 2ms/sample - loss: 0.1390 - accuracy: 0.9755 - val_loss: 0.7991 - val_accuracy: 0.7690\n",
      "Epoch 36/50\n",
      "4897/4897 [==============================] - 8s 2ms/sample - loss: 0.1425 - accuracy: 0.9743 - val_loss: 0.8172 - val_accuracy: 0.7705\n",
      "Epoch 37/50\n",
      "4897/4897 [==============================] - 7s 2ms/sample - loss: 0.1441 - accuracy: 0.9743 - val_loss: 0.7901 - val_accuracy: 0.7748\n",
      "Epoch 38/50\n",
      "4897/4897 [==============================] - 8s 2ms/sample - loss: 0.1319 - accuracy: 0.9773 - val_loss: 0.8108 - val_accuracy: 0.7590\n",
      "Epoch 39/50\n",
      "4897/4897 [==============================] - 7s 2ms/sample - loss: 0.0965 - accuracy: 0.9890 - val_loss: 0.8190 - val_accuracy: 0.7748\n",
      "Epoch 40/50\n",
      "4897/4897 [==============================] - 8s 2ms/sample - loss: 0.0986 - accuracy: 0.9855 - val_loss: 0.8130 - val_accuracy: 0.7752\n",
      "Epoch 41/50\n",
      "4897/4897 [==============================] - 8s 2ms/sample - loss: 0.0846 - accuracy: 0.9890 - val_loss: 0.8357 - val_accuracy: 0.7800\n",
      "Epoch 42/50\n",
      "4897/4897 [==============================] - 8s 2ms/sample - loss: 0.1467 - accuracy: 0.9669 - val_loss: 0.9223 - val_accuracy: 0.7562\n",
      "Epoch 43/50\n",
      "4897/4897 [==============================] - 8s 2ms/sample - loss: 0.1303 - accuracy: 0.9714 - val_loss: 0.8608 - val_accuracy: 0.7710\n",
      "Epoch 44/50\n",
      "4897/4897 [==============================] - 8s 2ms/sample - loss: 0.1068 - accuracy: 0.9818 - val_loss: 0.9094 - val_accuracy: 0.7481\n",
      "Epoch 45/50\n",
      "4897/4897 [==============================] - 8s 2ms/sample - loss: 0.1674 - accuracy: 0.9608 - val_loss: 0.8986 - val_accuracy: 0.7576\n",
      "Epoch 46/50\n",
      "4897/4897 [==============================] - 8s 2ms/sample - loss: 0.1864 - accuracy: 0.9500 - val_loss: 0.9451 - val_accuracy: 0.7510\n",
      "Epoch 47/50\n",
      "4897/4897 [==============================] - 7s 2ms/sample - loss: 0.1360 - accuracy: 0.9681 - val_loss: 0.9140 - val_accuracy: 0.7557\n",
      "Epoch 48/50\n",
      "4897/4897 [==============================] - 8s 2ms/sample - loss: 0.1437 - accuracy: 0.9661 - val_loss: 0.8884 - val_accuracy: 0.7714\n",
      "Epoch 49/50\n",
      "4897/4897 [==============================] - 7s 1ms/sample - loss: 0.1373 - accuracy: 0.9686 - val_loss: 0.9253 - val_accuracy: 0.7524\n",
      "Epoch 50/50\n",
      "4897/4897 [==============================] - 7s 2ms/sample - loss: 0.1134 - accuracy: 0.9775 - val_loss: 0.9671 - val_accuracy: 0.7467\n"
     ]
    }
   ],
   "source": [
    "history_CNN_mfcc = model_CNN_mfcc.fit(X_train_mfcc_2, y_train_mfcc, batch_size=32, validation_split = 0.3, epochs=50)"
   ]
  },
  {
   "cell_type": "code",
   "execution_count": 22,
   "metadata": {},
   "outputs": [
    {
     "data": {
      "image/png": "[encoded data removed]",
      "text/plain": [
       "<Figure size 432x288 with 1 Axes>"
      ]
     },
     "metadata": {
      "needs_background": "light"
     },
     "output_type": "display_data"
    }
   ],
   "source": [
    "affiche_acc(history_CNN_mfcc)"
   ]
  },
  {
   "cell_type": "code",
   "execution_count": 23,
   "metadata": {},
   "outputs": [
    {
     "data": {
      "image/png": "[encoded data removed]",
      "text/plain": [
       "<Figure size 432x288 with 1 Axes>"
      ]
     },
     "metadata": {
      "needs_background": "light"
     },
     "output_type": "display_data"
    }
   ],
   "source": [
    "affiche_loss(history_CNN_mfcc)"
   ]
  },
  {
   "cell_type": "markdown",
   "metadata": {},
   "source": [
    "evaluation du model CNN sur la base mfcc"
   ]
  },
  {
   "cell_type": "code",
   "execution_count": 24,
   "metadata": {},
   "outputs": [
    {
     "name": "stdout",
     "output_type": "stream",
     "text": [
      "2999/2999 [==============================] - 2s 551us/sample - loss: 0.9188 - accuracy: 0.7569\n",
      "Test accuracy: 0.75691897\n"
     ]
    }
   ],
   "source": [
    "test_loss, test_acc = model_CNN_mfcc.evaluate(X_test_mfcc_2,y_test_mfcc)\n",
    "print('Test accuracy:', test_acc)"
   ]
  },
  {
   "cell_type": "markdown",
   "metadata": {},
   "source": [
    "matrice de confusion"
   ]
  },
  {
   "cell_type": "code",
   "execution_count": 68,
   "metadata": {},
   "outputs": [
    {
     "name": "stdout",
     "output_type": "stream",
     "text": [
      "[[84.  1.  2.  3.  1.  4.  6.  0.  1.  3.]\n",
      " [ 0. 92.  2.  0.  0.  4.  0.  0.  0.  0.]\n",
      " [ 7.  1. 76.  5.  1.  7.  2.  5.  3. 20.]\n",
      " [ 0.  0.  3. 70.  5.  1.  2.  5.  6.  8.]\n",
      " [ 3.  1.  1.  5. 73.  0.  5.  6.  6.  1.]\n",
      " [ 1.  5.  1.  0.  1. 78.  0.  1.  1.  1.]\n",
      " [ 0.  0.  0.  0.  1.  0. 77.  0.  1.  6.]\n",
      " [ 0.  0.  4.  2.  6.  1.  0. 75.  3.  2.]\n",
      " [ 0.  0.  2.  7. 10.  1.  1.  3. 74.  2.]\n",
      " [ 3.  0. 10.  8.  3.  4.  8.  5.  4. 57.]]\n"
     ]
    }
   ],
   "source": [
    "prediction_mfcc=model_CNN_mfcc.predict(X_test_mfcc_2,batch_size=32)\n",
    "prediction_mfcc.shape\n",
    "y_pred_mfcc=[]\n",
    "for i in range(len(prediction_mfcc)) :\n",
    "    y_pred_mfcc.append(np.argmax(prediction_mfcc[i,:]))\n",
    "confusion_metrics_mfcc=tf.math.confusion_matrix(y_test_mfcc,y_pred_mfcc)\n",
    "print(np.round(np.array((confusion_metrics_mfcc/sum(confusion_metrics_mfcc))*100), 0))"
   ]
  },
  {
   "cell_type": "markdown",
   "metadata": {},
   "source": [
    "redimensionner la base mel pour un model CNN"
   ]
  },
  {
   "cell_type": "code",
   "execution_count": 25,
   "metadata": {},
   "outputs": [],
   "source": [
    "X_train_mel_2 = X_train_mel.reshape(X_train_mel.shape[0],X_train_mel.shape[1],X_train_mel.shape[2],1)\n",
    "X_test_mel_2 = X_test_mel.reshape(X_test_mel.shape[0],X_test_mel.shape[1],X_test_mel.shape[2],1)\n",
    "\n",
    "input_shape_mel = (X_train_mel_2.shape[1], X_train_mel_2.shape[2], 1)"
   ]
  },
  {
   "cell_type": "markdown",
   "metadata": {},
   "source": [
    "architecture avec des CNN pour les mel"
   ]
  },
  {
   "cell_type": "code",
   "execution_count": 27,
   "metadata": {},
   "outputs": [
    {
     "name": "stdout",
     "output_type": "stream",
     "text": [
      "Model: \"sequential_4\"\n",
      "_________________________________________________________________\n",
      "Layer (type)                 Output Shape              Param #   \n",
      "=================================================================\n",
      "conv2d_6 (Conv2D)            (None, 128, 11, 256)      2560      \n",
      "_________________________________________________________________\n",
      "max_pooling2d_6 (MaxPooling2 (None, 64, 6, 256)        0         \n",
      "_________________________________________________________________\n",
      "batch_normalization_6 (Batch (None, 64, 6, 256)        1024      \n",
      "_________________________________________________________________\n",
      "conv2d_7 (Conv2D)            (None, 62, 4, 256)        590080    \n",
      "_________________________________________________________________\n",
      "max_pooling2d_7 (MaxPooling2 (None, 31, 2, 256)        0         \n",
      "_________________________________________________________________\n",
      "batch_normalization_7 (Batch (None, 31, 2, 256)        1024      \n",
      "_________________________________________________________________\n",
      "conv2d_8 (Conv2D)            (None, 30, 1, 128)        131200    \n",
      "_________________________________________________________________\n",
      "max_pooling2d_8 (MaxPooling2 (None, 15, 1, 128)        0         \n",
      "_________________________________________________________________\n",
      "batch_normalization_8 (Batch (None, 15, 1, 128)        512       \n",
      "_________________________________________________________________\n",
      "flatten_3 (Flatten)          (None, 1920)              0         \n",
      "_________________________________________________________________\n",
      "dense_14 (Dense)             (None, 256)               491776    \n",
      "_________________________________________________________________\n",
      "dense_15 (Dense)             (None, 128)               32896     \n",
      "_________________________________________________________________\n",
      "dense_16 (Dense)             (None, 64)                8256      \n",
      "_________________________________________________________________\n",
      "dense_17 (Dense)             (None, 32)                2080      \n",
      "_________________________________________________________________\n",
      "dropout_2 (Dropout)          (None, 32)                0         \n",
      "_________________________________________________________________\n",
      "dense_18 (Dense)             (None, 10)                330       \n",
      "=================================================================\n",
      "Total params: 1,261,738\n",
      "Trainable params: 1,260,458\n",
      "Non-trainable params: 1,280\n",
      "_________________________________________________________________\n"
     ]
    }
   ],
   "source": [
    "model_CNN_mel = keras.Sequential()\n",
    "\n",
    "    # 1st conv layer\n",
    "model_CNN_mel.add(keras.layers.Conv2D(256, (3, 3), activation='relu', input_shape=input_shape_mel))\n",
    "model_CNN_mel.add(keras.layers.MaxPooling2D((3, 3), strides=(2, 2), padding='same'))\n",
    "model_CNN_mel.add(keras.layers.BatchNormalization())\n",
    "\n",
    "    # 2nd conv layer\n",
    "model_CNN_mel.add(keras.layers.Conv2D(256, (3, 3), activation='relu'))\n",
    "model_CNN_mel.add(keras.layers.MaxPooling2D((3, 3), strides=(2, 2), padding='same'))\n",
    "model_CNN_mel.add(keras.layers.BatchNormalization())\n",
    "\n",
    "    # 3rd conv layer\n",
    "model_CNN_mel.add(keras.layers.Conv2D(128, (2, 2), activation='relu'))\n",
    "model_CNN_mel.add(keras.layers.MaxPooling2D((2, 2), strides=(2, 2), padding='same'))\n",
    "model_CNN_mel.add(keras.layers.BatchNormalization())\n",
    "\n",
    "    # flatten output and feed it into dense layer\n",
    "model_CNN_mel.add(keras.layers.Flatten())\n",
    "model_CNN_mel.add(keras.layers.Dense(256, activation='relu'))\n",
    "model_CNN_mel.add(keras.layers.Dense(128, activation='relu'))\n",
    "model_CNN_mel.add(keras.layers.Dense(64, activation='tanh'))\n",
    "model_CNN_mel.add(keras.layers.Dense(32, activation='tanh'))\n",
    "model_CNN_mel.add(keras.layers.Dropout(0.5))\n",
    "\n",
    "    # output layer\n",
    "model_CNN_mel.add(keras.layers.Dense(10, activation='softmax'))\n",
    "\n",
    "optimiser = tf.keras.optimizers.Adam(learning_rate=0.0001)\n",
    "model_CNN_mel.compile(optimizer=optimiser,loss='sparse_categorical_crossentropy',metrics=['accuracy'])\n",
    "\n",
    "model_CNN_mel.summary()"
   ]
  },
  {
   "cell_type": "markdown",
   "metadata": {},
   "source": [
    "apprentissage avec le model CNN sur la base mel"
   ]
  },
  {
   "cell_type": "code",
   "execution_count": 28,
   "metadata": {},
   "outputs": [
    {
     "name": "stdout",
     "output_type": "stream",
     "text": [
      "Train on 4897 samples, validate on 2100 samples\n",
      "Epoch 1/50\n",
      "4897/4897 [==============================] - 10s 2ms/sample - loss: 2.2014 - accuracy: 0.2261 - val_loss: 2.3939 - val_accuracy: 0.1295\n",
      "Epoch 2/50\n",
      "4897/4897 [==============================] - 7s 1ms/sample - loss: 1.9293 - accuracy: 0.3259 - val_loss: 1.9739 - val_accuracy: 0.2905\n",
      "Epoch 3/50\n",
      "4897/4897 [==============================] - 8s 2ms/sample - loss: 1.7801 - accuracy: 0.3947 - val_loss: 1.7917 - val_accuracy: 0.3690\n",
      "Epoch 4/50\n",
      "4897/4897 [==============================] - 8s 2ms/sample - loss: 1.6500 - accuracy: 0.4280 - val_loss: 1.6204 - val_accuracy: 0.4424\n",
      "Epoch 5/50\n",
      "4897/4897 [==============================] - 7s 2ms/sample - loss: 1.5297 - accuracy: 0.4815 - val_loss: 1.6069 - val_accuracy: 0.4510\n",
      "Epoch 6/50\n",
      "4897/4897 [==============================] - 8s 2ms/sample - loss: 1.4868 - accuracy: 0.5072 - val_loss: 1.6530 - val_accuracy: 0.4100\n",
      "Epoch 7/50\n",
      "4897/4897 [==============================] - 8s 2ms/sample - loss: 1.3842 - accuracy: 0.5438 - val_loss: 1.5271 - val_accuracy: 0.4752\n",
      "Epoch 8/50\n",
      "4897/4897 [==============================] - 8s 2ms/sample - loss: 1.2853 - accuracy: 0.5853 - val_loss: 1.4923 - val_accuracy: 0.5048\n",
      "Epoch 9/50\n",
      "4897/4897 [==============================] - 8s 2ms/sample - loss: 1.2539 - accuracy: 0.5979 - val_loss: 1.6955 - val_accuracy: 0.4429\n",
      "Epoch 10/50\n",
      "4897/4897 [==============================] - 8s 2ms/sample - loss: 1.1526 - accuracy: 0.6375 - val_loss: 1.6427 - val_accuracy: 0.4429\n",
      "Epoch 11/50\n",
      "4897/4897 [==============================] - 8s 2ms/sample - loss: 1.0706 - accuracy: 0.6735 - val_loss: 1.3922 - val_accuracy: 0.5352\n",
      "Epoch 12/50\n",
      "4897/4897 [==============================] - 8s 2ms/sample - loss: 1.0082 - accuracy: 0.7004 - val_loss: 1.7681 - val_accuracy: 0.4243\n",
      "Epoch 13/50\n",
      "4897/4897 [==============================] - 8s 2ms/sample - loss: 1.0053 - accuracy: 0.6965 - val_loss: 1.3810 - val_accuracy: 0.5281\n",
      "Epoch 14/50\n",
      "4897/4897 [==============================] - 8s 2ms/sample - loss: 0.8975 - accuracy: 0.7462 - val_loss: 1.2638 - val_accuracy: 0.5795\n",
      "Epoch 15/50\n",
      "4897/4897 [==============================] - 8s 2ms/sample - loss: 0.8372 - accuracy: 0.7594 - val_loss: 1.4245 - val_accuracy: 0.5219\n",
      "Epoch 16/50\n",
      "4897/4897 [==============================] - 8s 2ms/sample - loss: 0.7928 - accuracy: 0.7811 - val_loss: 1.3403 - val_accuracy: 0.5519\n",
      "Epoch 17/50\n",
      "4897/4897 [==============================] - 8s 2ms/sample - loss: 0.7370 - accuracy: 0.7989 - val_loss: 1.4863 - val_accuracy: 0.5162\n",
      "Epoch 18/50\n",
      "4897/4897 [==============================] - 8s 2ms/sample - loss: 0.6772 - accuracy: 0.8240 - val_loss: 1.5236 - val_accuracy: 0.5210\n",
      "Epoch 19/50\n",
      "4897/4897 [==============================] - 7s 2ms/sample - loss: 0.6905 - accuracy: 0.8113 - val_loss: 1.7252 - val_accuracy: 0.4514\n",
      "Epoch 20/50\n",
      "4897/4897 [==============================] - 8s 2ms/sample - loss: 0.5789 - accuracy: 0.8593 - val_loss: 1.2587 - val_accuracy: 0.5929\n",
      "Epoch 21/50\n",
      "4897/4897 [==============================] - 8s 2ms/sample - loss: 0.6076 - accuracy: 0.8413 - val_loss: 1.2722 - val_accuracy: 0.6090\n",
      "Epoch 22/50\n",
      "4897/4897 [==============================] - 7s 2ms/sample - loss: 0.5549 - accuracy: 0.8583 - val_loss: 1.3701 - val_accuracy: 0.5386\n",
      "Epoch 23/50\n",
      "4897/4897 [==============================] - 8s 2ms/sample - loss: 0.4810 - accuracy: 0.8848 - val_loss: 1.4334 - val_accuracy: 0.5162\n",
      "Epoch 24/50\n",
      "4897/4897 [==============================] - 8s 2ms/sample - loss: 0.5017 - accuracy: 0.8756 - val_loss: 1.3412 - val_accuracy: 0.5757\n",
      "Epoch 25/50\n",
      "4897/4897 [==============================] - 8s 2ms/sample - loss: 0.4569 - accuracy: 0.8869 - val_loss: 1.5013 - val_accuracy: 0.5543\n",
      "Epoch 26/50\n",
      "4897/4897 [==============================] - 8s 2ms/sample - loss: 0.4431 - accuracy: 0.8910 - val_loss: 1.2182 - val_accuracy: 0.6262\n",
      "Epoch 27/50\n",
      "4897/4897 [==============================] - 8s 2ms/sample - loss: 0.4682 - accuracy: 0.8791 - val_loss: 1.2509 - val_accuracy: 0.6195\n",
      "Epoch 28/50\n",
      "4897/4897 [==============================] - 8s 2ms/sample - loss: 0.4472 - accuracy: 0.8893 - val_loss: 1.4860 - val_accuracy: 0.5343\n",
      "Epoch 29/50\n",
      "4897/4897 [==============================] - 8s 2ms/sample - loss: 0.4140 - accuracy: 0.9046 - val_loss: 1.4859 - val_accuracy: 0.5457\n",
      "Epoch 30/50\n",
      "4897/4897 [==============================] - 8s 2ms/sample - loss: 0.3837 - accuracy: 0.9069 - val_loss: 1.4018 - val_accuracy: 0.5790\n",
      "Epoch 31/50\n",
      "4897/4897 [==============================] - 8s 2ms/sample - loss: 0.3434 - accuracy: 0.9226 - val_loss: 1.3745 - val_accuracy: 0.5790\n",
      "Epoch 32/50\n",
      "4897/4897 [==============================] - 8s 2ms/sample - loss: 0.3759 - accuracy: 0.9095 - val_loss: 1.3284 - val_accuracy: 0.5986\n",
      "Epoch 33/50\n",
      "4897/4897 [==============================] - 8s 2ms/sample - loss: 0.3563 - accuracy: 0.9157 - val_loss: 1.2523 - val_accuracy: 0.6238\n",
      "Epoch 34/50\n",
      "4897/4897 [==============================] - 8s 2ms/sample - loss: 0.3121 - accuracy: 0.9291 - val_loss: 1.4234 - val_accuracy: 0.5719\n",
      "Epoch 35/50\n",
      "4897/4897 [==============================] - 8s 2ms/sample - loss: 0.2965 - accuracy: 0.9338 - val_loss: 1.2953 - val_accuracy: 0.6152\n",
      "Epoch 36/50\n",
      "4897/4897 [==============================] - 8s 2ms/sample - loss: 0.3571 - accuracy: 0.9097 - val_loss: 1.5006 - val_accuracy: 0.5724\n",
      "Epoch 37/50\n",
      "4897/4897 [==============================] - 8s 2ms/sample - loss: 0.2741 - accuracy: 0.9422 - val_loss: 1.5549 - val_accuracy: 0.5605\n",
      "Epoch 38/50\n",
      "4897/4897 [==============================] - 8s 2ms/sample - loss: 0.3508 - accuracy: 0.9151 - val_loss: 1.4957 - val_accuracy: 0.5719\n",
      "Epoch 39/50\n",
      "4897/4897 [==============================] - 7s 2ms/sample - loss: 0.3236 - accuracy: 0.9218 - val_loss: 1.2797 - val_accuracy: 0.6148\n",
      "Epoch 40/50\n",
      "4897/4897 [==============================] - 8s 2ms/sample - loss: 0.3052 - accuracy: 0.9251 - val_loss: 1.3740 - val_accuracy: 0.5957\n",
      "Epoch 41/50\n",
      "4897/4897 [==============================] - 8s 2ms/sample - loss: 0.2835 - accuracy: 0.9293 - val_loss: 1.4507 - val_accuracy: 0.5890\n",
      "Epoch 42/50\n",
      "4897/4897 [==============================] - 8s 2ms/sample - loss: 0.2562 - accuracy: 0.9406 - val_loss: 1.3548 - val_accuracy: 0.6124\n",
      "Epoch 43/50\n",
      "4897/4897 [==============================] - 8s 2ms/sample - loss: 0.2330 - accuracy: 0.9500 - val_loss: 1.3004 - val_accuracy: 0.6276\n",
      "Epoch 44/50\n",
      "4897/4897 [==============================] - 8s 2ms/sample - loss: 0.2308 - accuracy: 0.9477 - val_loss: 1.5099 - val_accuracy: 0.5757\n",
      "Epoch 45/50\n",
      "4897/4897 [==============================] - 8s 2ms/sample - loss: 0.2515 - accuracy: 0.9410 - val_loss: 1.7283 - val_accuracy: 0.5457\n",
      "Epoch 46/50\n",
      "4897/4897 [==============================] - 8s 2ms/sample - loss: 0.2264 - accuracy: 0.9514 - val_loss: 1.3731 - val_accuracy: 0.6129\n",
      "Epoch 47/50\n",
      "4897/4897 [==============================] - 8s 2ms/sample - loss: 0.2167 - accuracy: 0.9516 - val_loss: 1.7008 - val_accuracy: 0.5414\n",
      "Epoch 48/50\n",
      "4897/4897 [==============================] - 8s 2ms/sample - loss: 0.1992 - accuracy: 0.9571 - val_loss: 1.7955 - val_accuracy: 0.5110\n",
      "Epoch 49/50\n",
      "4897/4897 [==============================] - 8s 2ms/sample - loss: 0.2223 - accuracy: 0.9471 - val_loss: 1.3707 - val_accuracy: 0.6138\n",
      "Epoch 50/50\n",
      "4897/4897 [==============================] - 8s 2ms/sample - loss: 0.1766 - accuracy: 0.9622 - val_loss: 1.6250 - val_accuracy: 0.5929\n"
     ]
    }
   ],
   "source": [
    "history_CNN_mel = model_CNN_mel.fit(X_train_mel_2, y_train_mel, batch_size=32, validation_split = 0.3, epochs=50)"
   ]
  },
  {
   "cell_type": "code",
   "execution_count": 29,
   "metadata": {},
   "outputs": [
    {
     "data": {
      "image/png": "[encoded data removed]",
      "text/plain": [
       "<Figure size 432x288 with 1 Axes>"
      ]
     },
     "metadata": {
      "needs_background": "light"
     },
     "output_type": "display_data"
    }
   ],
   "source": [
    "affiche_acc(history_CNN_mel)"
   ]
  },
  {
   "cell_type": "code",
   "execution_count": 30,
   "metadata": {},
   "outputs": [
    {
     "data": {
      "image/png": "[encoded data removed]",
      "text/plain": [
       "<Figure size 432x288 with 1 Axes>"
      ]
     },
     "metadata": {
      "needs_background": "light"
     },
     "output_type": "display_data"
    }
   ],
   "source": [
    "affiche_loss(history_CNN_mel)"
   ]
  },
  {
   "cell_type": "markdown",
   "metadata": {},
   "source": [
    "evaluation du model CNN sur la base mel"
   ]
  },
  {
   "cell_type": "code",
   "execution_count": 31,
   "metadata": {},
   "outputs": [
    {
     "name": "stdout",
     "output_type": "stream",
     "text": [
      "2999/2999 [==============================] - ETA: 0s - loss: 1.6244 - accuracy: 0.58 - 2s 501us/sample - loss: 1.6282 - accuracy: 0.5865\n",
      "Test accuracy: 0.75691897\n"
     ]
    }
   ],
   "source": [
    "test_loss_mel, test_acc_mel = model_CNN_mel.evaluate(X_test_mel_2,y_test_mel)\n",
    "print('Test accuracy:', test_acc)"
   ]
  },
  {
   "cell_type": "markdown",
   "metadata": {},
   "source": [
    "matrice de confusion"
   ]
  },
  {
   "cell_type": "code",
   "execution_count": 69,
   "metadata": {},
   "outputs": [
    {
     "name": "stdout",
     "output_type": "stream",
     "text": [
      "[[53.  3. 12.  4.  2.  6.  3.  3.  5.  6.]\n",
      " [ 1. 47.  1.  0.  0.  2.  0.  0.  0.  2.]\n",
      " [ 9.  6. 58.  3.  1. 10.  2.  5.  5. 12.]\n",
      " [ 6.  3.  2. 56.  5.  1.  2. 10.  3.  7.]\n",
      " [ 2.  1.  0.  5. 61.  0.  4.  9.  5.  3.]\n",
      " [ 4. 22.  4.  0.  0. 67.  0.  0.  1.  0.]\n",
      " [ 2.  2.  2.  2.  5.  3. 82.  1.  0. 19.]\n",
      " [ 6.  2.  6. 10.  8.  2.  0. 64.  5.  7.]\n",
      " [ 7.  4.  4. 10. 13.  1.  0.  5. 71.  4.]\n",
      " [11.  9. 11. 10.  4.  6.  7.  4.  5. 41.]]\n"
     ]
    }
   ],
   "source": [
    "prediction_mel=model_CNN_mel.predict(X_test_mel_2,batch_size=32)\n",
    "prediction_mel.shape\n",
    "y_pred_mel=[]\n",
    "for i in range(len(prediction_mel)) :\n",
    "    y_pred_mel.append(np.argmax(prediction_mel[i,:]))\n",
    "confusion_metrics_mel=tf.math.confusion_matrix(y_test_mel,y_pred_mel)\n",
    "print(np.round(np.array((confusion_metrics_mel/sum(confusion_metrics_mel))*100), 0))"
   ]
  }
 ],
 "metadata": {
  "kernelspec": {
   "display_name": "Python 3",
   "language": "python",
   "name": "python3"
  },
  "language_info": {
   "codemirror_mode": {
    "name": "ipython",
    "version": 3
   },
   "file_extension": ".py",
   "mimetype": "text/x-python",
   "name": "python",
   "nbconvert_exporter": "python",
   "pygments_lexer": "ipython3",
   "version": "3.8.3"
  }
 },
 "nbformat": 4,
 "nbformat_minor": 4
}
